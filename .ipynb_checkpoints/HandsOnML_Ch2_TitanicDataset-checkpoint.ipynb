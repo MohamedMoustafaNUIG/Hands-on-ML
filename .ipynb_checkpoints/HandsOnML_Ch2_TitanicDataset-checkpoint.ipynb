{
 "cells": [
  {
   "cell_type": "code",
   "execution_count": 1,
   "metadata": {
    "_cell_guid": "b1076dfc-b9ad-4769-8c92-a6c4dae69d19",
    "_uuid": "8f2839f25d086af736a60e9eeb907d3b93b6e0e5",
    "execution": {
     "iopub.execute_input": "2021-06-24T05:01:34.124900Z",
     "iopub.status.busy": "2021-06-24T05:01:34.124331Z",
     "iopub.status.idle": "2021-06-24T05:01:34.127036Z",
     "shell.execute_reply": "2021-06-24T05:01:34.127783Z",
     "shell.execute_reply.started": "2021-06-24T02:50:39.174754Z"
    },
    "papermill": {
     "duration": 0.108077,
     "end_time": "2021-06-24T05:01:34.128160",
     "exception": false,
     "start_time": "2021-06-24T05:01:34.020083",
     "status": "completed"
    },
    "tags": []
   },
   "outputs": [],
   "source": [
    "import os\n",
    "import numpy as np\n",
    "import pandas as pd\n",
    "\n",
    "import matplotlib.pyplot as plt\n",
    "%matplotlib inline\n",
    "\n",
    "import tarfile\n",
    "import urllib\n",
    "import requests\n",
    "\n",
    "import csv"
   ]
  },
  {
   "cell_type": "markdown",
   "metadata": {
    "papermill": {
     "duration": 0.083126,
     "end_time": "2021-06-24T05:01:34.492097",
     "exception": false,
     "start_time": "2021-06-24T05:01:34.408971",
     "status": "completed"
    },
    "tags": []
   },
   "source": [
    "# Load Data"
   ]
  },
  {
   "cell_type": "code",
   "execution_count": 35,
   "metadata": {},
   "outputs": [],
   "source": [
    "DATA_URL = \"https://raw.githubusercontent.com/agconti/kaggle-titanic/master/data/\"\n",
    "DATA_PATH = \"./datasets/titanic/\"\n",
    "\n",
    "def fetch_data(data_url=DATA_URL, data_path=DATA_PATH):\n",
    "    if not os.path.isdir(data_path):\n",
    "        os.makedirs(data_path)\n",
    "    r = requests.get(data_url+\"train.csv\", allow_redirects=True)\n",
    "    open('datasets/titanic/train.csv', 'wb').write(r.content)\n",
    "\n",
    "    \n",
    "    r = requests.get(data_url+\"test.csv\", allow_redirects=True)\n",
    "    open('datasets/titanic/test.csv', 'wb').write(r.content)"
   ]
  },
  {
   "cell_type": "code",
   "execution_count": 36,
   "metadata": {},
   "outputs": [],
   "source": [
    "fetch_data()"
   ]
  },
  {
   "cell_type": "code",
   "execution_count": 37,
   "metadata": {
    "execution": {
     "iopub.execute_input": "2021-06-24T05:01:34.662098Z",
     "iopub.status.busy": "2021-06-24T05:01:34.661540Z",
     "iopub.status.idle": "2021-06-24T05:01:34.664428Z",
     "shell.execute_reply": "2021-06-24T05:01:34.663938Z",
     "shell.execute_reply.started": "2021-06-24T02:50:39.200560Z"
    },
    "papermill": {
     "duration": 0.089711,
     "end_time": "2021-06-24T05:01:34.664567",
     "exception": false,
     "start_time": "2021-06-24T05:01:34.574856",
     "status": "completed"
    },
    "tags": []
   },
   "outputs": [],
   "source": [
    "def load_data(path, file):\n",
    "    csv_path = os.path.join(path, file)\n",
    "    return pd.read_csv(csv_path)"
   ]
  },
  {
   "cell_type": "code",
   "execution_count": 38,
   "metadata": {
    "execution": {
     "iopub.execute_input": "2021-06-24T05:01:34.835770Z",
     "iopub.status.busy": "2021-06-24T05:01:34.835040Z",
     "iopub.status.idle": "2021-06-24T05:01:34.860235Z",
     "shell.execute_reply": "2021-06-24T05:01:34.860708Z",
     "shell.execute_reply.started": "2021-06-24T02:50:39.211387Z"
    },
    "papermill": {
     "duration": 0.114,
     "end_time": "2021-06-24T05:01:34.860874",
     "exception": false,
     "start_time": "2021-06-24T05:01:34.746874",
     "status": "completed"
    },
    "tags": []
   },
   "outputs": [],
   "source": [
    "train = load_data(DATA_PATH, \"train.csv\")\n",
    "test = load_data(DATA_PATH, \"test.csv\")"
   ]
  },
  {
   "cell_type": "markdown",
   "metadata": {
    "papermill": {
     "duration": 0.082213,
     "end_time": "2021-06-24T05:01:35.026596",
     "exception": false,
     "start_time": "2021-06-24T05:01:34.944383",
     "status": "completed"
    },
    "tags": []
   },
   "source": [
    "# Look at Data"
   ]
  },
  {
   "cell_type": "code",
   "execution_count": 39,
   "metadata": {
    "execution": {
     "iopub.execute_input": "2021-06-24T05:01:35.196313Z",
     "iopub.status.busy": "2021-06-24T05:01:35.195393Z",
     "iopub.status.idle": "2021-06-24T05:01:35.223897Z",
     "shell.execute_reply": "2021-06-24T05:01:35.224370Z",
     "shell.execute_reply.started": "2021-06-24T02:50:39.244731Z"
    },
    "papermill": {
     "duration": 0.114783,
     "end_time": "2021-06-24T05:01:35.224523",
     "exception": false,
     "start_time": "2021-06-24T05:01:35.109740",
     "status": "completed"
    },
    "tags": []
   },
   "outputs": [
    {
     "data": {
      "text/html": [
       "<div>\n",
       "<style scoped>\n",
       "    .dataframe tbody tr th:only-of-type {\n",
       "        vertical-align: middle;\n",
       "    }\n",
       "\n",
       "    .dataframe tbody tr th {\n",
       "        vertical-align: top;\n",
       "    }\n",
       "\n",
       "    .dataframe thead th {\n",
       "        text-align: right;\n",
       "    }\n",
       "</style>\n",
       "<table border=\"1\" class=\"dataframe\">\n",
       "  <thead>\n",
       "    <tr style=\"text-align: right;\">\n",
       "      <th></th>\n",
       "      <th>PassengerId</th>\n",
       "      <th>Survived</th>\n",
       "      <th>Pclass</th>\n",
       "      <th>Name</th>\n",
       "      <th>Sex</th>\n",
       "      <th>Age</th>\n",
       "      <th>SibSp</th>\n",
       "      <th>Parch</th>\n",
       "      <th>Ticket</th>\n",
       "      <th>Fare</th>\n",
       "      <th>Cabin</th>\n",
       "      <th>Embarked</th>\n",
       "    </tr>\n",
       "  </thead>\n",
       "  <tbody>\n",
       "    <tr>\n",
       "      <th>0</th>\n",
       "      <td>1</td>\n",
       "      <td>0</td>\n",
       "      <td>3</td>\n",
       "      <td>Braund, Mr. Owen Harris</td>\n",
       "      <td>male</td>\n",
       "      <td>22.0</td>\n",
       "      <td>1</td>\n",
       "      <td>0</td>\n",
       "      <td>A/5 21171</td>\n",
       "      <td>7.2500</td>\n",
       "      <td>NaN</td>\n",
       "      <td>S</td>\n",
       "    </tr>\n",
       "    <tr>\n",
       "      <th>1</th>\n",
       "      <td>2</td>\n",
       "      <td>1</td>\n",
       "      <td>1</td>\n",
       "      <td>Cumings, Mrs. John Bradley (Florence Briggs Th...</td>\n",
       "      <td>female</td>\n",
       "      <td>38.0</td>\n",
       "      <td>1</td>\n",
       "      <td>0</td>\n",
       "      <td>PC 17599</td>\n",
       "      <td>71.2833</td>\n",
       "      <td>C85</td>\n",
       "      <td>C</td>\n",
       "    </tr>\n",
       "    <tr>\n",
       "      <th>2</th>\n",
       "      <td>3</td>\n",
       "      <td>1</td>\n",
       "      <td>3</td>\n",
       "      <td>Heikkinen, Miss. Laina</td>\n",
       "      <td>female</td>\n",
       "      <td>26.0</td>\n",
       "      <td>0</td>\n",
       "      <td>0</td>\n",
       "      <td>STON/O2. 3101282</td>\n",
       "      <td>7.9250</td>\n",
       "      <td>NaN</td>\n",
       "      <td>S</td>\n",
       "    </tr>\n",
       "    <tr>\n",
       "      <th>3</th>\n",
       "      <td>4</td>\n",
       "      <td>1</td>\n",
       "      <td>1</td>\n",
       "      <td>Futrelle, Mrs. Jacques Heath (Lily May Peel)</td>\n",
       "      <td>female</td>\n",
       "      <td>35.0</td>\n",
       "      <td>1</td>\n",
       "      <td>0</td>\n",
       "      <td>113803</td>\n",
       "      <td>53.1000</td>\n",
       "      <td>C123</td>\n",
       "      <td>S</td>\n",
       "    </tr>\n",
       "    <tr>\n",
       "      <th>4</th>\n",
       "      <td>5</td>\n",
       "      <td>0</td>\n",
       "      <td>3</td>\n",
       "      <td>Allen, Mr. William Henry</td>\n",
       "      <td>male</td>\n",
       "      <td>35.0</td>\n",
       "      <td>0</td>\n",
       "      <td>0</td>\n",
       "      <td>373450</td>\n",
       "      <td>8.0500</td>\n",
       "      <td>NaN</td>\n",
       "      <td>S</td>\n",
       "    </tr>\n",
       "  </tbody>\n",
       "</table>\n",
       "</div>"
      ],
      "text/plain": [
       "   PassengerId  Survived  Pclass  \\\n",
       "0            1         0       3   \n",
       "1            2         1       1   \n",
       "2            3         1       3   \n",
       "3            4         1       1   \n",
       "4            5         0       3   \n",
       "\n",
       "                                                Name     Sex   Age  SibSp  \\\n",
       "0                            Braund, Mr. Owen Harris    male  22.0      1   \n",
       "1  Cumings, Mrs. John Bradley (Florence Briggs Th...  female  38.0      1   \n",
       "2                             Heikkinen, Miss. Laina  female  26.0      0   \n",
       "3       Futrelle, Mrs. Jacques Heath (Lily May Peel)  female  35.0      1   \n",
       "4                           Allen, Mr. William Henry    male  35.0      0   \n",
       "\n",
       "   Parch            Ticket     Fare Cabin Embarked  \n",
       "0      0         A/5 21171   7.2500   NaN        S  \n",
       "1      0          PC 17599  71.2833   C85        C  \n",
       "2      0  STON/O2. 3101282   7.9250   NaN        S  \n",
       "3      0            113803  53.1000  C123        S  \n",
       "4      0            373450   8.0500   NaN        S  "
      ]
     },
     "execution_count": 39,
     "metadata": {},
     "output_type": "execute_result"
    }
   ],
   "source": [
    "train.head()"
   ]
  },
  {
   "cell_type": "code",
   "execution_count": 40,
   "metadata": {
    "execution": {
     "iopub.execute_input": "2021-06-24T05:01:35.396611Z",
     "iopub.status.busy": "2021-06-24T05:01:35.395708Z",
     "iopub.status.idle": "2021-06-24T05:01:35.415794Z",
     "shell.execute_reply": "2021-06-24T05:01:35.415236Z",
     "shell.execute_reply.started": "2021-06-24T02:50:39.274208Z"
    },
    "papermill": {
     "duration": 0.106788,
     "end_time": "2021-06-24T05:01:35.415929",
     "exception": false,
     "start_time": "2021-06-24T05:01:35.309141",
     "status": "completed"
    },
    "tags": []
   },
   "outputs": [
    {
     "name": "stdout",
     "output_type": "stream",
     "text": [
      "<class 'pandas.core.frame.DataFrame'>\n",
      "RangeIndex: 891 entries, 0 to 890\n",
      "Data columns (total 12 columns):\n",
      " #   Column       Non-Null Count  Dtype  \n",
      "---  ------       --------------  -----  \n",
      " 0   PassengerId  891 non-null    int64  \n",
      " 1   Survived     891 non-null    int64  \n",
      " 2   Pclass       891 non-null    int64  \n",
      " 3   Name         891 non-null    object \n",
      " 4   Sex          891 non-null    object \n",
      " 5   Age          714 non-null    float64\n",
      " 6   SibSp        891 non-null    int64  \n",
      " 7   Parch        891 non-null    int64  \n",
      " 8   Ticket       891 non-null    object \n",
      " 9   Fare         891 non-null    float64\n",
      " 10  Cabin        204 non-null    object \n",
      " 11  Embarked     889 non-null    object \n",
      "dtypes: float64(2), int64(5), object(5)\n",
      "memory usage: 83.7+ KB\n"
     ]
    }
   ],
   "source": [
    "train.info()"
   ]
  },
  {
   "cell_type": "code",
   "execution_count": 7,
   "metadata": {
    "execution": {
     "iopub.execute_input": "2021-06-24T05:01:35.596935Z",
     "iopub.status.busy": "2021-06-24T05:01:35.596190Z",
     "iopub.status.idle": "2021-06-24T05:01:35.600030Z",
     "shell.execute_reply": "2021-06-24T05:01:35.599462Z",
     "shell.execute_reply.started": "2021-06-24T02:50:39.292919Z"
    },
    "papermill": {
     "duration": 0.100097,
     "end_time": "2021-06-24T05:01:35.600170",
     "exception": false,
     "start_time": "2021-06-24T05:01:35.500073",
     "status": "completed"
    },
    "tags": []
   },
   "outputs": [
    {
     "name": "stdout",
     "output_type": "stream",
     "text": [
      "<class 'pandas.core.frame.DataFrame'>\n",
      "RangeIndex: 418 entries, 0 to 417\n",
      "Data columns (total 11 columns):\n",
      " #   Column       Non-Null Count  Dtype  \n",
      "---  ------       --------------  -----  \n",
      " 0   PassengerId  418 non-null    int64  \n",
      " 1   Pclass       418 non-null    int64  \n",
      " 2   Name         418 non-null    object \n",
      " 3   Sex          418 non-null    object \n",
      " 4   Age          332 non-null    float64\n",
      " 5   SibSp        418 non-null    int64  \n",
      " 6   Parch        418 non-null    int64  \n",
      " 7   Ticket       418 non-null    object \n",
      " 8   Fare         417 non-null    float64\n",
      " 9   Cabin        91 non-null     object \n",
      " 10  Embarked     418 non-null    object \n",
      "dtypes: float64(2), int64(4), object(5)\n",
      "memory usage: 36.0+ KB\n"
     ]
    }
   ],
   "source": [
    "test.info()"
   ]
  },
  {
   "cell_type": "code",
   "execution_count": 8,
   "metadata": {
    "execution": {
     "iopub.execute_input": "2021-06-24T05:01:35.782968Z",
     "iopub.status.busy": "2021-06-24T05:01:35.782247Z",
     "iopub.status.idle": "2021-06-24T05:01:35.821305Z",
     "shell.execute_reply": "2021-06-24T05:01:35.820606Z",
     "shell.execute_reply.started": "2021-06-24T02:50:39.310229Z"
    },
    "papermill": {
     "duration": 0.137346,
     "end_time": "2021-06-24T05:01:35.821498",
     "exception": false,
     "start_time": "2021-06-24T05:01:35.684152",
     "status": "completed"
    },
    "tags": []
   },
   "outputs": [
    {
     "data": {
      "text/html": [
       "<div>\n",
       "<style scoped>\n",
       "    .dataframe tbody tr th:only-of-type {\n",
       "        vertical-align: middle;\n",
       "    }\n",
       "\n",
       "    .dataframe tbody tr th {\n",
       "        vertical-align: top;\n",
       "    }\n",
       "\n",
       "    .dataframe thead th {\n",
       "        text-align: right;\n",
       "    }\n",
       "</style>\n",
       "<table border=\"1\" class=\"dataframe\">\n",
       "  <thead>\n",
       "    <tr style=\"text-align: right;\">\n",
       "      <th></th>\n",
       "      <th>PassengerId</th>\n",
       "      <th>Survived</th>\n",
       "      <th>Pclass</th>\n",
       "      <th>Age</th>\n",
       "      <th>SibSp</th>\n",
       "      <th>Parch</th>\n",
       "      <th>Fare</th>\n",
       "    </tr>\n",
       "  </thead>\n",
       "  <tbody>\n",
       "    <tr>\n",
       "      <th>count</th>\n",
       "      <td>891.000000</td>\n",
       "      <td>891.000000</td>\n",
       "      <td>891.000000</td>\n",
       "      <td>714.000000</td>\n",
       "      <td>891.000000</td>\n",
       "      <td>891.000000</td>\n",
       "      <td>891.000000</td>\n",
       "    </tr>\n",
       "    <tr>\n",
       "      <th>mean</th>\n",
       "      <td>446.000000</td>\n",
       "      <td>0.383838</td>\n",
       "      <td>2.308642</td>\n",
       "      <td>29.699118</td>\n",
       "      <td>0.523008</td>\n",
       "      <td>0.381594</td>\n",
       "      <td>32.204208</td>\n",
       "    </tr>\n",
       "    <tr>\n",
       "      <th>std</th>\n",
       "      <td>257.353842</td>\n",
       "      <td>0.486592</td>\n",
       "      <td>0.836071</td>\n",
       "      <td>14.526497</td>\n",
       "      <td>1.102743</td>\n",
       "      <td>0.806057</td>\n",
       "      <td>49.693429</td>\n",
       "    </tr>\n",
       "    <tr>\n",
       "      <th>min</th>\n",
       "      <td>1.000000</td>\n",
       "      <td>0.000000</td>\n",
       "      <td>1.000000</td>\n",
       "      <td>0.420000</td>\n",
       "      <td>0.000000</td>\n",
       "      <td>0.000000</td>\n",
       "      <td>0.000000</td>\n",
       "    </tr>\n",
       "    <tr>\n",
       "      <th>25%</th>\n",
       "      <td>223.500000</td>\n",
       "      <td>0.000000</td>\n",
       "      <td>2.000000</td>\n",
       "      <td>20.125000</td>\n",
       "      <td>0.000000</td>\n",
       "      <td>0.000000</td>\n",
       "      <td>7.910400</td>\n",
       "    </tr>\n",
       "    <tr>\n",
       "      <th>50%</th>\n",
       "      <td>446.000000</td>\n",
       "      <td>0.000000</td>\n",
       "      <td>3.000000</td>\n",
       "      <td>28.000000</td>\n",
       "      <td>0.000000</td>\n",
       "      <td>0.000000</td>\n",
       "      <td>14.454200</td>\n",
       "    </tr>\n",
       "    <tr>\n",
       "      <th>75%</th>\n",
       "      <td>668.500000</td>\n",
       "      <td>1.000000</td>\n",
       "      <td>3.000000</td>\n",
       "      <td>38.000000</td>\n",
       "      <td>1.000000</td>\n",
       "      <td>0.000000</td>\n",
       "      <td>31.000000</td>\n",
       "    </tr>\n",
       "    <tr>\n",
       "      <th>max</th>\n",
       "      <td>891.000000</td>\n",
       "      <td>1.000000</td>\n",
       "      <td>3.000000</td>\n",
       "      <td>80.000000</td>\n",
       "      <td>8.000000</td>\n",
       "      <td>6.000000</td>\n",
       "      <td>512.329200</td>\n",
       "    </tr>\n",
       "  </tbody>\n",
       "</table>\n",
       "</div>"
      ],
      "text/plain": [
       "       PassengerId    Survived      Pclass         Age       SibSp  \\\n",
       "count   891.000000  891.000000  891.000000  714.000000  891.000000   \n",
       "mean    446.000000    0.383838    2.308642   29.699118    0.523008   \n",
       "std     257.353842    0.486592    0.836071   14.526497    1.102743   \n",
       "min       1.000000    0.000000    1.000000    0.420000    0.000000   \n",
       "25%     223.500000    0.000000    2.000000   20.125000    0.000000   \n",
       "50%     446.000000    0.000000    3.000000   28.000000    0.000000   \n",
       "75%     668.500000    1.000000    3.000000   38.000000    1.000000   \n",
       "max     891.000000    1.000000    3.000000   80.000000    8.000000   \n",
       "\n",
       "            Parch        Fare  \n",
       "count  891.000000  891.000000  \n",
       "mean     0.381594   32.204208  \n",
       "std      0.806057   49.693429  \n",
       "min      0.000000    0.000000  \n",
       "25%      0.000000    7.910400  \n",
       "50%      0.000000   14.454200  \n",
       "75%      0.000000   31.000000  \n",
       "max      6.000000  512.329200  "
      ]
     },
     "execution_count": 8,
     "metadata": {},
     "output_type": "execute_result"
    }
   ],
   "source": [
    "train.describe()"
   ]
  },
  {
   "cell_type": "code",
   "execution_count": 9,
   "metadata": {
    "execution": {
     "iopub.execute_input": "2021-06-24T05:01:36.007157Z",
     "iopub.status.busy": "2021-06-24T05:01:36.006296Z",
     "iopub.status.idle": "2021-06-24T05:01:36.010285Z",
     "shell.execute_reply": "2021-06-24T05:01:36.009662Z",
     "shell.execute_reply.started": "2021-06-24T02:50:39.352374Z"
    },
    "papermill": {
     "duration": 0.095515,
     "end_time": "2021-06-24T05:01:36.010418",
     "exception": false,
     "start_time": "2021-06-24T05:01:35.914903",
     "status": "completed"
    },
    "tags": []
   },
   "outputs": [
    {
     "data": {
      "text/plain": [
       "male      577\n",
       "female    314\n",
       "Name: Sex, dtype: int64"
      ]
     },
     "execution_count": 9,
     "metadata": {},
     "output_type": "execute_result"
    }
   ],
   "source": [
    "train[\"Sex\"].value_counts()"
   ]
  },
  {
   "cell_type": "code",
   "execution_count": 10,
   "metadata": {
    "execution": {
     "iopub.execute_input": "2021-06-24T05:01:36.190610Z",
     "iopub.status.busy": "2021-06-24T05:01:36.187943Z",
     "iopub.status.idle": "2021-06-24T05:01:36.194826Z",
     "shell.execute_reply": "2021-06-24T05:01:36.194209Z",
     "shell.execute_reply.started": "2021-06-24T02:50:39.361853Z"
    },
    "papermill": {
     "duration": 0.098087,
     "end_time": "2021-06-24T05:01:36.194975",
     "exception": false,
     "start_time": "2021-06-24T05:01:36.096888",
     "status": "completed"
    },
    "tags": []
   },
   "outputs": [
    {
     "data": {
      "text/plain": [
       "CA. 2343           7\n",
       "1601               7\n",
       "347082             7\n",
       "3101295            6\n",
       "CA 2144            6\n",
       "                  ..\n",
       "17464              1\n",
       "F.C.C. 13531       1\n",
       "SC/AH Basle 541    1\n",
       "9234               1\n",
       "31028              1\n",
       "Name: Ticket, Length: 681, dtype: int64"
      ]
     },
     "execution_count": 10,
     "metadata": {},
     "output_type": "execute_result"
    }
   ],
   "source": [
    "train[\"Ticket\"].value_counts()"
   ]
  },
  {
   "cell_type": "code",
   "execution_count": 11,
   "metadata": {
    "execution": {
     "iopub.execute_input": "2021-06-24T05:01:36.377676Z",
     "iopub.status.busy": "2021-06-24T05:01:36.377045Z",
     "iopub.status.idle": "2021-06-24T05:01:36.379875Z",
     "shell.execute_reply": "2021-06-24T05:01:36.380371Z",
     "shell.execute_reply.started": "2021-06-24T02:50:39.426588Z"
    },
    "papermill": {
     "duration": 0.098047,
     "end_time": "2021-06-24T05:01:36.380535",
     "exception": false,
     "start_time": "2021-06-24T05:01:36.282488",
     "status": "completed"
    },
    "tags": []
   },
   "outputs": [
    {
     "data": {
      "text/plain": [
       "G6             4\n",
       "C23 C25 C27    4\n",
       "B96 B98        4\n",
       "F33            3\n",
       "F2             3\n",
       "              ..\n",
       "B37            1\n",
       "D15            1\n",
       "B69            1\n",
       "D7             1\n",
       "A23            1\n",
       "Name: Cabin, Length: 147, dtype: int64"
      ]
     },
     "execution_count": 11,
     "metadata": {},
     "output_type": "execute_result"
    }
   ],
   "source": [
    "train[\"Cabin\"].value_counts()"
   ]
  },
  {
   "cell_type": "code",
   "execution_count": 12,
   "metadata": {
    "execution": {
     "iopub.execute_input": "2021-06-24T05:01:36.556687Z",
     "iopub.status.busy": "2021-06-24T05:01:36.556116Z",
     "iopub.status.idle": "2021-06-24T05:01:36.562654Z",
     "shell.execute_reply": "2021-06-24T05:01:36.563216Z",
     "shell.execute_reply.started": "2021-06-24T02:50:39.437397Z"
    },
    "papermill": {
     "duration": 0.096549,
     "end_time": "2021-06-24T05:01:36.563371",
     "exception": false,
     "start_time": "2021-06-24T05:01:36.466822",
     "status": "completed"
    },
    "tags": []
   },
   "outputs": [
    {
     "data": {
      "text/plain": [
       "S    644\n",
       "C    168\n",
       "Q     77\n",
       "Name: Embarked, dtype: int64"
      ]
     },
     "execution_count": 12,
     "metadata": {},
     "output_type": "execute_result"
    }
   ],
   "source": [
    "train[\"Embarked\"].value_counts()"
   ]
  },
  {
   "cell_type": "markdown",
   "metadata": {
    "papermill": {
     "duration": 0.08639,
     "end_time": "2021-06-24T05:01:36.736933",
     "exception": false,
     "start_time": "2021-06-24T05:01:36.650543",
     "status": "completed"
    },
    "tags": []
   },
   "source": [
    "<p>To drop:</p>\n",
    "<ol>\n",
    "    <li>PassengerId</li>\n",
    "    <li>Name</li>\n",
    "    <li>Ticket</li>\n",
    "</ol>"
   ]
  },
  {
   "cell_type": "markdown",
   "metadata": {
    "papermill": {
     "duration": 0.086158,
     "end_time": "2021-06-24T05:01:36.910490",
     "exception": false,
     "start_time": "2021-06-24T05:01:36.824332",
     "status": "completed"
    },
    "tags": []
   },
   "source": [
    "<p>To replace:</p>\n",
    "<ol>\n",
    "    <li>Sex with Male</li>\n",
    "    <li>Cabin with Number of Cabins from A to E</li>\n",
    "    <li>Ticket with S C Q</li>\n",
    "</ol>"
   ]
  },
  {
   "cell_type": "markdown",
   "metadata": {
    "papermill": {
     "duration": 0.085773,
     "end_time": "2021-06-24T05:01:37.082458",
     "exception": false,
     "start_time": "2021-06-24T05:01:36.996685",
     "status": "completed"
    },
    "tags": []
   },
   "source": [
    "# Split into training and validation set"
   ]
  },
  {
   "cell_type": "code",
   "execution_count": 13,
   "metadata": {
    "execution": {
     "iopub.execute_input": "2021-06-24T05:01:37.259200Z",
     "iopub.status.busy": "2021-06-24T05:01:37.258590Z",
     "iopub.status.idle": "2021-06-24T05:01:38.146709Z",
     "shell.execute_reply": "2021-06-24T05:01:38.147263Z",
     "shell.execute_reply.started": "2021-06-24T02:50:39.453099Z"
    },
    "papermill": {
     "duration": 0.978081,
     "end_time": "2021-06-24T05:01:38.147435",
     "exception": false,
     "start_time": "2021-06-24T05:01:37.169354",
     "status": "completed"
    },
    "tags": []
   },
   "outputs": [],
   "source": [
    "from sklearn.model_selection import train_test_split"
   ]
  },
  {
   "cell_type": "code",
   "execution_count": 14,
   "metadata": {
    "execution": {
     "iopub.execute_input": "2021-06-24T05:01:38.326117Z",
     "iopub.status.busy": "2021-06-24T05:01:38.325516Z",
     "iopub.status.idle": "2021-06-24T05:01:38.332555Z",
     "shell.execute_reply": "2021-06-24T05:01:38.333170Z",
     "shell.execute_reply.started": "2021-06-24T02:50:39.804202Z"
    },
    "papermill": {
     "duration": 0.098397,
     "end_time": "2021-06-24T05:01:38.333332",
     "exception": false,
     "start_time": "2021-06-24T05:01:38.234935",
     "status": "completed"
    },
    "tags": []
   },
   "outputs": [],
   "source": [
    "train_set, valid_set = train_test_split(train, test_size=0.2, random_state=42)"
   ]
  },
  {
   "cell_type": "markdown",
   "metadata": {
    "papermill": {
     "duration": 0.087636,
     "end_time": "2021-06-24T05:01:38.507556",
     "exception": false,
     "start_time": "2021-06-24T05:01:38.419920",
     "status": "completed"
    },
    "tags": []
   },
   "source": [
    "# Data visualization"
   ]
  },
  {
   "cell_type": "code",
   "execution_count": 15,
   "metadata": {
    "execution": {
     "iopub.execute_input": "2021-06-24T05:01:38.687650Z",
     "iopub.status.busy": "2021-06-24T05:01:38.687051Z",
     "iopub.status.idle": "2021-06-24T05:01:38.691103Z",
     "shell.execute_reply": "2021-06-24T05:01:38.691596Z",
     "shell.execute_reply.started": "2021-06-24T02:50:39.812328Z"
    },
    "papermill": {
     "duration": 0.095225,
     "end_time": "2021-06-24T05:01:38.691753",
     "exception": false,
     "start_time": "2021-06-24T05:01:38.596528",
     "status": "completed"
    },
    "tags": []
   },
   "outputs": [],
   "source": [
    "train = train_set.copy()"
   ]
  },
  {
   "cell_type": "code",
   "execution_count": 16,
   "metadata": {
    "execution": {
     "iopub.execute_input": "2021-06-24T05:01:38.871610Z",
     "iopub.status.busy": "2021-06-24T05:01:38.870922Z",
     "iopub.status.idle": "2021-06-24T05:01:39.088968Z",
     "shell.execute_reply": "2021-06-24T05:01:39.088381Z",
     "shell.execute_reply.started": "2021-06-24T02:50:39.823722Z"
    },
    "papermill": {
     "duration": 0.309789,
     "end_time": "2021-06-24T05:01:39.089105",
     "exception": false,
     "start_time": "2021-06-24T05:01:38.779316",
     "status": "completed"
    },
    "tags": []
   },
   "outputs": [
    {
     "data": {
      "text/plain": [
       "<AxesSubplot:xlabel='Age', ylabel='Survived'>"
      ]
     },
     "execution_count": 16,
     "metadata": {},
     "output_type": "execute_result"
    },
    {
     "data": {
      "image/png": "[encoded data removed]",
      "text/plain": [
       "<Figure size 432x288 with 1 Axes>"
      ]
     },
     "metadata": {
      "needs_background": "light"
     },
     "output_type": "display_data"
    }
   ],
   "source": [
    "train.plot(kind=\"scatter\", x=\"Age\", y=\"Survived\", alpha=0.4)"
   ]
  },
  {
   "cell_type": "code",
   "execution_count": 17,
   "metadata": {
    "execution": {
     "iopub.execute_input": "2021-06-24T05:01:39.271012Z",
     "iopub.status.busy": "2021-06-24T05:01:39.270394Z",
     "iopub.status.idle": "2021-06-24T05:01:41.115444Z",
     "shell.execute_reply": "2021-06-24T05:01:41.114879Z",
     "shell.execute_reply.started": "2021-06-24T02:50:40.018312Z"
    },
    "papermill": {
     "duration": 1.937228,
     "end_time": "2021-06-24T05:01:41.115585",
     "exception": false,
     "start_time": "2021-06-24T05:01:39.178357",
     "status": "completed"
    },
    "tags": []
   },
   "outputs": [
    {
     "name": "stderr",
     "output_type": "stream",
     "text": [
      "/opt/conda/lib/python3.7/site-packages/pandas/plotting/_matplotlib/tools.py:400: MatplotlibDeprecationWarning: \n",
      "The is_first_col function was deprecated in Matplotlib 3.4 and will be removed two minor releases later. Use ax.get_subplotspec().is_first_col() instead.\n",
      "  if ax.is_first_col():\n"
     ]
    },
    {
     "data": {
      "image/png": "[encoded data removed]",
      "text/plain": [
       "<Figure size 1440x1080 with 9 Axes>"
      ]
     },
     "metadata": {
      "needs_background": "light"
     },
     "output_type": "display_data"
    }
   ],
   "source": [
    "train.hist(bins=50, figsize=(20,15))\n",
    "plt.show()"
   ]
  },
  {
   "cell_type": "code",
   "execution_count": 18,
   "metadata": {
    "execution": {
     "iopub.execute_input": "2021-06-24T05:01:41.343704Z",
     "iopub.status.busy": "2021-06-24T05:01:41.335753Z",
     "iopub.status.idle": "2021-06-24T05:01:41.510953Z",
     "shell.execute_reply": "2021-06-24T05:01:41.510350Z",
     "shell.execute_reply.started": "2021-06-24T02:50:41.887510Z"
    },
    "papermill": {
     "duration": 0.306055,
     "end_time": "2021-06-24T05:01:41.511112",
     "exception": false,
     "start_time": "2021-06-24T05:01:41.205057",
     "status": "completed"
    },
    "tags": []
   },
   "outputs": [
    {
     "data": {
      "text/plain": [
       "(array([ 48.,  33., 139., 139.,  91.,  58.,  39.,  19.,   4.,   2.]),\n",
       " array([ 0.42 ,  8.378, 16.336, 24.294, 32.252, 40.21 , 48.168, 56.126,\n",
       "        64.084, 72.042, 80.   ]),\n",
       " <BarContainer object of 10 artists>)"
      ]
     },
     "execution_count": 18,
     "metadata": {},
     "output_type": "execute_result"
    },
    {
     "data": {
      "image/png": "[encoded data removed]",
      "text/plain": [
       "<Figure size 432x288 with 1 Axes>"
      ]
     },
     "metadata": {
      "needs_background": "light"
     },
     "output_type": "display_data"
    }
   ],
   "source": [
    "plt.hist(train[[\"Age\"]])"
   ]
  },
  {
   "cell_type": "markdown",
   "metadata": {
    "papermill": {
     "duration": 0.09156,
     "end_time": "2021-06-24T05:01:41.700596",
     "exception": false,
     "start_time": "2021-06-24T05:01:41.609036",
     "status": "completed"
    },
    "tags": []
   },
   "source": [
    "# Experimenting with Attribute Combinations"
   ]
  },
  {
   "cell_type": "code",
   "execution_count": 19,
   "metadata": {
    "execution": {
     "iopub.execute_input": "2021-06-24T05:01:41.891435Z",
     "iopub.status.busy": "2021-06-24T05:01:41.890741Z",
     "iopub.status.idle": "2021-06-24T05:01:41.910334Z",
     "shell.execute_reply": "2021-06-24T05:01:41.909738Z",
     "shell.execute_reply.started": "2021-06-24T02:50:42.062903Z"
    },
    "papermill": {
     "duration": 0.117736,
     "end_time": "2021-06-24T05:01:41.910488",
     "exception": false,
     "start_time": "2021-06-24T05:01:41.792752",
     "status": "completed"
    },
    "tags": []
   },
   "outputs": [],
   "source": [
    "train[\"family_index\"] = train[\"SibSp\"] + train[\"Parch\"]"
   ]
  },
  {
   "cell_type": "code",
   "execution_count": 20,
   "metadata": {
    "execution": {
     "iopub.execute_input": "2021-06-24T05:01:42.105201Z",
     "iopub.status.busy": "2021-06-24T05:01:42.104531Z",
     "iopub.status.idle": "2021-06-24T05:01:42.107870Z",
     "shell.execute_reply": "2021-06-24T05:01:42.107262Z",
     "shell.execute_reply.started": "2021-06-24T02:50:42.074719Z"
    },
    "papermill": {
     "duration": 0.103374,
     "end_time": "2021-06-24T05:01:42.108013",
     "exception": false,
     "start_time": "2021-06-24T05:01:42.004639",
     "status": "completed"
    },
    "tags": []
   },
   "outputs": [],
   "source": [
    "train[\"age_cat\"] = pd.cut(\n",
    "    train[\"Age\"],\n",
    "    bins=[0., 15., 25., 65., np.inf],\n",
    "    labels=[1, 2, 3, 4]\n",
    ")"
   ]
  },
  {
   "cell_type": "code",
   "execution_count": 21,
   "metadata": {
    "execution": {
     "iopub.execute_input": "2021-06-24T05:01:42.318381Z",
     "iopub.status.busy": "2021-06-24T05:01:42.317744Z",
     "iopub.status.idle": "2021-06-24T05:01:42.454051Z",
     "shell.execute_reply": "2021-06-24T05:01:42.453424Z",
     "shell.execute_reply.started": "2021-06-24T02:50:42.093872Z"
    },
    "papermill": {
     "duration": 0.255262,
     "end_time": "2021-06-24T05:01:42.454218",
     "exception": false,
     "start_time": "2021-06-24T05:01:42.198956",
     "status": "completed"
    },
    "tags": []
   },
   "outputs": [
    {
     "data": {
      "text/plain": [
       "<AxesSubplot:>"
      ]
     },
     "execution_count": 21,
     "metadata": {},
     "output_type": "execute_result"
    },
    {
     "data": {
      "image/png": "[encoded data removed]",
      "text/plain": [
       "<Figure size 432x288 with 1 Axes>"
      ]
     },
     "metadata": {
      "needs_background": "light"
     },
     "output_type": "display_data"
    }
   ],
   "source": [
    "train[\"age_cat\"].hist()"
   ]
  },
  {
   "cell_type": "code",
   "execution_count": 22,
   "metadata": {
    "execution": {
     "iopub.execute_input": "2021-06-24T05:01:42.689974Z",
     "iopub.status.busy": "2021-06-24T05:01:42.688430Z",
     "iopub.status.idle": "2021-06-24T05:01:42.693190Z",
     "shell.execute_reply": "2021-06-24T05:01:42.692578Z",
     "shell.execute_reply.started": "2021-06-24T02:50:42.259136Z"
    },
    "papermill": {
     "duration": 0.102387,
     "end_time": "2021-06-24T05:01:42.693330",
     "exception": false,
     "start_time": "2021-06-24T05:01:42.590943",
     "status": "completed"
    },
    "tags": []
   },
   "outputs": [],
   "source": [
    "corr_matrix = train.corr()"
   ]
  },
  {
   "cell_type": "code",
   "execution_count": 23,
   "metadata": {
    "execution": {
     "iopub.execute_input": "2021-06-24T05:01:42.884551Z",
     "iopub.status.busy": "2021-06-24T05:01:42.883701Z",
     "iopub.status.idle": "2021-06-24T05:01:42.887653Z",
     "shell.execute_reply": "2021-06-24T05:01:42.887090Z",
     "shell.execute_reply.started": "2021-06-24T02:50:42.266619Z"
    },
    "papermill": {
     "duration": 0.101888,
     "end_time": "2021-06-24T05:01:42.887791",
     "exception": false,
     "start_time": "2021-06-24T05:01:42.785903",
     "status": "completed"
    },
    "tags": []
   },
   "outputs": [
    {
     "data": {
      "text/plain": [
       "Survived        1.000000\n",
       "Fare            0.246641\n",
       "Parch           0.078311\n",
       "PassengerId     0.019979\n",
       "family_index    0.003565\n",
       "SibSp          -0.047602\n",
       "Age            -0.059695\n",
       "Pclass         -0.321750\n",
       "Name: Survived, dtype: float64"
      ]
     },
     "execution_count": 23,
     "metadata": {},
     "output_type": "execute_result"
    }
   ],
   "source": [
    "corr_matrix[\"Survived\"].sort_values(ascending=False)"
   ]
  },
  {
   "cell_type": "markdown",
   "metadata": {
    "papermill": {
     "duration": 0.092706,
     "end_time": "2021-06-24T05:01:43.072625",
     "exception": false,
     "start_time": "2021-06-24T05:01:42.979919",
     "status": "completed"
    },
    "tags": []
   },
   "source": [
    "# Data preparation"
   ]
  },
  {
   "cell_type": "code",
   "execution_count": 24,
   "metadata": {
    "execution": {
     "iopub.execute_input": "2021-06-24T05:01:43.259567Z",
     "iopub.status.busy": "2021-06-24T05:01:43.258596Z",
     "iopub.status.idle": "2021-06-24T05:01:43.264045Z",
     "shell.execute_reply": "2021-06-24T05:01:43.264567Z",
     "shell.execute_reply.started": "2021-06-24T02:50:42.283177Z"
    },
    "papermill": {
     "duration": 0.100599,
     "end_time": "2021-06-24T05:01:43.264718",
     "exception": false,
     "start_time": "2021-06-24T05:01:43.164119",
     "status": "completed"
    },
    "tags": []
   },
   "outputs": [],
   "source": [
    "train = train_set.drop(\"Survived\", axis=1)\n",
    "train_labels = train_set[\"Survived\"].copy()"
   ]
  },
  {
   "cell_type": "code",
   "execution_count": 25,
   "metadata": {
    "execution": {
     "iopub.execute_input": "2021-06-24T05:01:43.450903Z",
     "iopub.status.busy": "2021-06-24T05:01:43.449998Z",
     "iopub.status.idle": "2021-06-24T05:01:43.454522Z",
     "shell.execute_reply": "2021-06-24T05:01:43.455069Z",
     "shell.execute_reply.started": "2021-06-24T02:50:42.292018Z"
    },
    "papermill": {
     "duration": 0.099181,
     "end_time": "2021-06-24T05:01:43.455237",
     "exception": false,
     "start_time": "2021-06-24T05:01:43.356056",
     "status": "completed"
    },
    "tags": []
   },
   "outputs": [],
   "source": [
    "train=train.reset_index(drop=True)\n",
    "train_labels=train_labels.reset_index(drop=True)"
   ]
  },
  {
   "cell_type": "code",
   "execution_count": 26,
   "metadata": {
    "execution": {
     "iopub.execute_input": "2021-06-24T05:01:43.641787Z",
     "iopub.status.busy": "2021-06-24T05:01:43.640901Z",
     "iopub.status.idle": "2021-06-24T05:01:43.655780Z",
     "shell.execute_reply": "2021-06-24T05:01:43.654837Z",
     "shell.execute_reply.started": "2021-06-24T02:50:42.305705Z"
    },
    "papermill": {
     "duration": 0.108209,
     "end_time": "2021-06-24T05:01:43.655996",
     "exception": false,
     "start_time": "2021-06-24T05:01:43.547787",
     "status": "completed"
    },
    "tags": []
   },
   "outputs": [
    {
     "name": "stdout",
     "output_type": "stream",
     "text": [
      "<class 'pandas.core.frame.DataFrame'>\n",
      "RangeIndex: 712 entries, 0 to 711\n",
      "Data columns (total 11 columns):\n",
      " #   Column       Non-Null Count  Dtype  \n",
      "---  ------       --------------  -----  \n",
      " 0   PassengerId  712 non-null    int64  \n",
      " 1   Pclass       712 non-null    int64  \n",
      " 2   Name         712 non-null    object \n",
      " 3   Sex          712 non-null    object \n",
      " 4   Age          572 non-null    float64\n",
      " 5   SibSp        712 non-null    int64  \n",
      " 6   Parch        712 non-null    int64  \n",
      " 7   Ticket       712 non-null    object \n",
      " 8   Fare         712 non-null    float64\n",
      " 9   Cabin        159 non-null    object \n",
      " 10  Embarked     710 non-null    object \n",
      "dtypes: float64(2), int64(4), object(5)\n",
      "memory usage: 61.3+ KB\n"
     ]
    }
   ],
   "source": [
    "train.info()"
   ]
  },
  {
   "cell_type": "markdown",
   "metadata": {
    "papermill": {
     "duration": 0.096532,
     "end_time": "2021-06-24T05:01:43.844185",
     "exception": false,
     "start_time": "2021-06-24T05:01:43.747653",
     "status": "completed"
    },
    "tags": []
   },
   "source": [
    "## Drop features"
   ]
  },
  {
   "cell_type": "code",
   "execution_count": 27,
   "metadata": {
    "execution": {
     "iopub.execute_input": "2021-06-24T05:01:44.030512Z",
     "iopub.status.busy": "2021-06-24T05:01:44.029901Z",
     "iopub.status.idle": "2021-06-24T05:01:44.032828Z",
     "shell.execute_reply": "2021-06-24T05:01:44.032342Z",
     "shell.execute_reply.started": "2021-06-24T02:50:42.327015Z"
    },
    "papermill": {
     "duration": 0.098019,
     "end_time": "2021-06-24T05:01:44.032956",
     "exception": false,
     "start_time": "2021-06-24T05:01:43.934937",
     "status": "completed"
    },
    "tags": []
   },
   "outputs": [],
   "source": [
    "from sklearn.base import BaseEstimator, TransformerMixin"
   ]
  },
  {
   "cell_type": "code",
   "execution_count": 28,
   "metadata": {
    "_kg_hide-input": true,
    "execution": {
     "iopub.execute_input": "2021-06-24T05:01:44.224220Z",
     "iopub.status.busy": "2021-06-24T05:01:44.223061Z",
     "iopub.status.idle": "2021-06-24T05:01:44.225392Z",
     "shell.execute_reply": "2021-06-24T05:01:44.225997Z",
     "shell.execute_reply.started": "2021-06-24T02:50:42.333232Z"
    },
    "papermill": {
     "duration": 0.101651,
     "end_time": "2021-06-24T05:01:44.226188",
     "exception": false,
     "start_time": "2021-06-24T05:01:44.124537",
     "status": "completed"
    },
    "tags": []
   },
   "outputs": [],
   "source": [
    "def get_cabin_prefixes(data):\n",
    "    prefix = set()\n",
    "    for i, row in data.iterrows():\n",
    "        list_of_cabins = row[\"Cabin\"]\n",
    "        if not type(list_of_cabins) is float:\n",
    "            list_of_cabins = list_of_cabins.split(\" \")\n",
    "            for cabins in list_of_cabins:\n",
    "                prefix.add(cabins[0])\n",
    "                \n",
    "    return prefix"
   ]
  },
  {
   "cell_type": "code",
   "execution_count": 29,
   "metadata": {
    "execution": {
     "iopub.execute_input": "2021-06-24T05:01:44.413873Z",
     "iopub.status.busy": "2021-06-24T05:01:44.412925Z",
     "iopub.status.idle": "2021-06-24T05:01:44.510626Z",
     "shell.execute_reply": "2021-06-24T05:01:44.511183Z",
     "shell.execute_reply.started": "2021-06-24T02:50:42.346429Z"
    },
    "papermill": {
     "duration": 0.192297,
     "end_time": "2021-06-24T05:01:44.511345",
     "exception": false,
     "start_time": "2021-06-24T05:01:44.319048",
     "status": "completed"
    },
    "tags": []
   },
   "outputs": [
    {
     "data": {
      "text/plain": [
       "({'A', 'B', 'C', 'D', 'E', 'F', 'G', 'T'}, {'A', 'B', 'C', 'D', 'E', 'F', 'G'})"
      ]
     },
     "execution_count": 29,
     "metadata": {},
     "output_type": "execute_result"
    }
   ],
   "source": [
    "get_cabin_prefixes(train), get_cabin_prefixes(test)"
   ]
  },
  {
   "cell_type": "code",
   "execution_count": 30,
   "metadata": {
    "execution": {
     "iopub.execute_input": "2021-06-24T05:01:44.698705Z",
     "iopub.status.busy": "2021-06-24T05:01:44.697768Z",
     "iopub.status.idle": "2021-06-24T05:01:44.702296Z",
     "shell.execute_reply": "2021-06-24T05:01:44.702822Z",
     "shell.execute_reply.started": "2021-06-24T02:50:42.458032Z"
    },
    "papermill": {
     "duration": 0.099709,
     "end_time": "2021-06-24T05:01:44.702973",
     "exception": false,
     "start_time": "2021-06-24T05:01:44.603264",
     "status": "completed"
    },
    "tags": []
   },
   "outputs": [],
   "source": [
    "cabins_pref = ['A', 'B', 'C', 'D', 'E', 'F', 'G']\n",
    "cabin_idx = range(len(cabins_pref))\n",
    "cabin_mapping = dict(sorted(zip(sorted(cabins_pref), cabin_idx)))"
   ]
  },
  {
   "cell_type": "code",
   "execution_count": 31,
   "metadata": {
    "execution": {
     "iopub.execute_input": "2021-06-24T05:01:44.892492Z",
     "iopub.status.busy": "2021-06-24T05:01:44.891551Z",
     "iopub.status.idle": "2021-06-24T05:01:44.897199Z",
     "shell.execute_reply": "2021-06-24T05:01:44.897747Z",
     "shell.execute_reply.started": "2021-06-24T02:50:42.465897Z"
    },
    "papermill": {
     "duration": 0.102677,
     "end_time": "2021-06-24T05:01:44.897911",
     "exception": false,
     "start_time": "2021-06-24T05:01:44.795234",
     "status": "completed"
    },
    "tags": []
   },
   "outputs": [
    {
     "data": {
      "text/plain": [
       "{'A': 0, 'B': 1, 'C': 2, 'D': 3, 'E': 4, 'F': 5, 'G': 6}"
      ]
     },
     "execution_count": 31,
     "metadata": {},
     "output_type": "execute_result"
    }
   ],
   "source": [
    "cabin_mapping"
   ]
  },
  {
   "cell_type": "code",
   "execution_count": 32,
   "metadata": {
    "execution": {
     "iopub.execute_input": "2021-06-24T05:01:45.087917Z",
     "iopub.status.busy": "2021-06-24T05:01:45.086968Z",
     "iopub.status.idle": "2021-06-24T05:01:45.100881Z",
     "shell.execute_reply": "2021-06-24T05:01:45.101437Z",
     "shell.execute_reply.started": "2021-06-24T02:50:42.484446Z"
    },
    "papermill": {
     "duration": 0.111001,
     "end_time": "2021-06-24T05:01:45.101621",
     "exception": false,
     "start_time": "2021-06-24T05:01:44.990620",
     "status": "completed"
    },
    "tags": []
   },
   "outputs": [
    {
     "name": "stdout",
     "output_type": "stream",
     "text": [
      "<class 'pandas.core.frame.DataFrame'>\n",
      "RangeIndex: 712 entries, 0 to 711\n",
      "Data columns (total 11 columns):\n",
      " #   Column       Non-Null Count  Dtype  \n",
      "---  ------       --------------  -----  \n",
      " 0   PassengerId  712 non-null    int64  \n",
      " 1   Pclass       712 non-null    int64  \n",
      " 2   Name         712 non-null    object \n",
      " 3   Sex          712 non-null    object \n",
      " 4   Age          572 non-null    float64\n",
      " 5   SibSp        712 non-null    int64  \n",
      " 6   Parch        712 non-null    int64  \n",
      " 7   Ticket       712 non-null    object \n",
      " 8   Fare         712 non-null    float64\n",
      " 9   Cabin        159 non-null    object \n",
      " 10  Embarked     710 non-null    object \n",
      "dtypes: float64(2), int64(4), object(5)\n",
      "memory usage: 61.3+ KB\n"
     ]
    }
   ],
   "source": [
    "train.info()"
   ]
  },
  {
   "cell_type": "code",
   "execution_count": 33,
   "metadata": {
    "execution": {
     "iopub.execute_input": "2021-06-24T05:01:45.292207Z",
     "iopub.status.busy": "2021-06-24T05:01:45.291573Z",
     "iopub.status.idle": "2021-06-24T05:01:45.296853Z",
     "shell.execute_reply": "2021-06-24T05:01:45.297378Z",
     "shell.execute_reply.started": "2021-06-24T02:50:42.504916Z"
    },
    "papermill": {
     "duration": 0.102085,
     "end_time": "2021-06-24T05:01:45.297537",
     "exception": false,
     "start_time": "2021-06-24T05:01:45.195452",
     "status": "completed"
    },
    "tags": []
   },
   "outputs": [
    {
     "data": {
      "text/plain": [
       "False"
      ]
     },
     "execution_count": 33,
     "metadata": {},
     "output_type": "execute_result"
    }
   ],
   "source": [
    "pd.isna(train.iloc[2]['Embarked'])"
   ]
  },
  {
   "cell_type": "code",
   "execution_count": 34,
   "metadata": {
    "execution": {
     "iopub.execute_input": "2021-06-24T05:01:45.487570Z",
     "iopub.status.busy": "2021-06-24T05:01:45.486967Z",
     "iopub.status.idle": "2021-06-24T05:01:45.492086Z",
     "shell.execute_reply": "2021-06-24T05:01:45.492571Z",
     "shell.execute_reply.started": "2021-06-24T02:50:42.518748Z"
    },
    "papermill": {
     "duration": 0.101745,
     "end_time": "2021-06-24T05:01:45.492750",
     "exception": false,
     "start_time": "2021-06-24T05:01:45.391005",
     "status": "completed"
    },
    "tags": []
   },
   "outputs": [
    {
     "data": {
      "text/plain": [
       "'S'"
      ]
     },
     "execution_count": 34,
     "metadata": {},
     "output_type": "execute_result"
    }
   ],
   "source": [
    "train.iloc[2]['Embarked'].upper()"
   ]
  },
  {
   "cell_type": "code",
   "execution_count": 35,
   "metadata": {
    "execution": {
     "iopub.execute_input": "2021-06-24T05:01:45.684760Z",
     "iopub.status.busy": "2021-06-24T05:01:45.684158Z",
     "iopub.status.idle": "2021-06-24T05:01:45.697025Z",
     "shell.execute_reply": "2021-06-24T05:01:45.696411Z",
     "shell.execute_reply.started": "2021-06-24T02:50:42.531200Z"
    },
    "papermill": {
     "duration": 0.109464,
     "end_time": "2021-06-24T05:01:45.697176",
     "exception": false,
     "start_time": "2021-06-24T05:01:45.587712",
     "status": "completed"
    },
    "tags": []
   },
   "outputs": [],
   "source": [
    "class AttributesConverter(BaseEstimator, TransformerMixin):\n",
    "    def __init__(self): # no *args or **kargs\n",
    "        pass\n",
    "    \n",
    "    def fit(self, X, y=None):\n",
    "        return self # nothing else to do\n",
    "    \n",
    "    def transform(self, X):\n",
    "        #change sex to male, a 0/1 feature\n",
    "        X = X.rename(columns={'Sex': 'Male'})\n",
    "        X = X.replace({'Male': {'male': 1., 'female': 0.}})\n",
    "        \n",
    "        #change Cabin with cabin_A_reserved, ...\n",
    "        # eliminate cabin T\n",
    "        index = X.index\n",
    "        num_of_rows = len(index)\n",
    "        new_col = [0.]*num_of_rows\n",
    "        \n",
    "        cabins_pref = ['A', 'B', 'C', 'D', 'E', 'F', 'G']\n",
    "        #cabin_idx = range(len(cabins_pref))\n",
    "        #cabin_mapping = dict(sorted(zip(sorted(cabins_pref), cabin_idx)))\n",
    "        \n",
    "        #make a new column to store number of cabins in a certain deck reserved\n",
    "        for c in cabins_pref:\n",
    "            X['Cabin_'+c+'_Reserved'] = new_col\n",
    "        \n",
    "        X['Cabin_Unknown'] = new_col\n",
    "        \n",
    "        #populate the columns\n",
    "        for i, row in X.iterrows():\n",
    "            list_of_cabins = row[\"Cabin\"]\n",
    "            if not type(list_of_cabins) is float:#if cabins not nan\n",
    "                list_of_cabins = list_of_cabins.split(\" \")#get list of cabins reserved\n",
    "                for cabins in list_of_cabins:#loop over them\n",
    "                    if(cabins[0]!='T'):\n",
    "                        X.at[i,'Cabin_'+cabins[0]+'_Reserved'] = row['Cabin_'+cabins[0]+'_Reserved'] + 1.\n",
    "                    else:\n",
    "                        X.at[i,'Cabin_Unknown'] = row['Cabin_Unknown'] + 1.\n",
    "            else:\n",
    "                X.at[i,'Cabin_Unknown'] = row['Cabin_Unknown'] + 1.\n",
    "        \n",
    "        #change Embarked with Embarked_S, Embarked_C, Embarked_Q, Embarked_Unkown\n",
    "        X['Embarked_S'] = new_col\n",
    "        X['Embarked_C'] = new_col\n",
    "        X['Embarked_Q'] = new_col\n",
    "        X['Embarked_Unknown'] = new_col\n",
    "        \n",
    "        #populate the columns\n",
    "        for i, row in X.iterrows():\n",
    "            emb = row[\"Embarked\"]\n",
    "            \n",
    "            if not pd.isna(emb):#if we know where they embarked from\n",
    "                X.at[i,'Embarked_'+emb[0].upper()] = 1.\n",
    "            else:\n",
    "                X.at[i,'Embarked_Unknown'] = 1.\n",
    "        return X"
   ]
  },
  {
   "cell_type": "code",
   "execution_count": 36,
   "metadata": {
    "execution": {
     "iopub.execute_input": "2021-06-24T05:01:45.894048Z",
     "iopub.status.busy": "2021-06-24T05:01:45.893343Z",
     "iopub.status.idle": "2021-06-24T05:01:45.898791Z",
     "shell.execute_reply": "2021-06-24T05:01:45.898227Z",
     "shell.execute_reply.started": "2021-06-24T02:50:42.548911Z"
    },
    "papermill": {
     "duration": 0.103607,
     "end_time": "2021-06-24T05:01:45.898924",
     "exception": false,
     "start_time": "2021-06-24T05:01:45.795317",
     "status": "completed"
    },
    "tags": []
   },
   "outputs": [],
   "source": [
    "class AttributesRemover(BaseEstimator, TransformerMixin):\n",
    "    def __init__(self): # no *args or **kargs\n",
    "        pass\n",
    "    \n",
    "    def fit(self, X, y=None):\n",
    "        return self # nothing else to do\n",
    "    \n",
    "    def transform(self, X):\n",
    "        return X.drop([\"PassengerId\", \"Name\", \"Ticket\", \"Cabin\", \"Embarked\"], axis=1)"
   ]
  },
  {
   "cell_type": "code",
   "execution_count": 37,
   "metadata": {
    "execution": {
     "iopub.execute_input": "2021-06-24T05:01:46.093542Z",
     "iopub.status.busy": "2021-06-24T05:01:46.092913Z",
     "iopub.status.idle": "2021-06-24T05:01:46.253876Z",
     "shell.execute_reply": "2021-06-24T05:01:46.253332Z",
     "shell.execute_reply.started": "2021-06-24T02:50:42.564855Z"
    },
    "papermill": {
     "duration": 0.259364,
     "end_time": "2021-06-24T05:01:46.254023",
     "exception": false,
     "start_time": "2021-06-24T05:01:45.994659",
     "status": "completed"
    },
    "tags": []
   },
   "outputs": [],
   "source": [
    "from sklearn.impute import SimpleImputer\n",
    "from sklearn.pipeline import Pipeline\n",
    "from sklearn.compose import ColumnTransformer\n",
    "from sklearn.preprocessing import StandardScaler, MinMaxScaler"
   ]
  },
  {
   "cell_type": "code",
   "execution_count": 38,
   "metadata": {
    "execution": {
     "iopub.execute_input": "2021-06-24T05:01:46.447067Z",
     "iopub.status.busy": "2021-06-24T05:01:46.446405Z",
     "iopub.status.idle": "2021-06-24T05:01:46.449454Z",
     "shell.execute_reply": "2021-06-24T05:01:46.448943Z",
     "shell.execute_reply.started": "2021-06-24T02:50:42.614160Z"
    },
    "papermill": {
     "duration": 0.10038,
     "end_time": "2021-06-24T05:01:46.449587",
     "exception": false,
     "start_time": "2021-06-24T05:01:46.349207",
     "status": "completed"
    },
    "tags": []
   },
   "outputs": [],
   "source": [
    "#AttributesConverter\n",
    "#AttributesRemover"
   ]
  },
  {
   "cell_type": "code",
   "execution_count": 39,
   "metadata": {
    "execution": {
     "iopub.execute_input": "2021-06-24T05:01:46.641871Z",
     "iopub.status.busy": "2021-06-24T05:01:46.640906Z",
     "iopub.status.idle": "2021-06-24T05:01:46.823826Z",
     "shell.execute_reply": "2021-06-24T05:01:46.823236Z",
     "shell.execute_reply.started": "2021-06-24T02:50:42.619277Z"
    },
    "papermill": {
     "duration": 0.279209,
     "end_time": "2021-06-24T05:01:46.824009",
     "exception": false,
     "start_time": "2021-06-24T05:01:46.544800",
     "status": "completed"
    },
    "tags": []
   },
   "outputs": [],
   "source": [
    "attr_conv = AttributesConverter()\n",
    "attr_remov = AttributesRemover()\n",
    "\n",
    "train_prepared =  attr_remov.transform(attr_conv.transform(train))"
   ]
  },
  {
   "cell_type": "code",
   "execution_count": 40,
   "metadata": {
    "execution": {
     "iopub.execute_input": "2021-06-24T05:01:47.028717Z",
     "iopub.status.busy": "2021-06-24T05:01:47.028080Z",
     "iopub.status.idle": "2021-06-24T05:01:47.030599Z",
     "shell.execute_reply": "2021-06-24T05:01:47.031055Z",
     "shell.execute_reply.started": "2021-06-24T02:50:42.793513Z"
    },
    "papermill": {
     "duration": 0.102435,
     "end_time": "2021-06-24T05:01:47.031251",
     "exception": false,
     "start_time": "2021-06-24T05:01:46.928816",
     "status": "completed"
    },
    "tags": []
   },
   "outputs": [
    {
     "data": {
      "text/plain": [
       "Pclass               1.0\n",
       "Male                 1.0\n",
       "Age                 45.5\n",
       "SibSp                0.0\n",
       "Parch                0.0\n",
       "Fare                28.5\n",
       "Cabin_A_Reserved     0.0\n",
       "Cabin_B_Reserved     0.0\n",
       "Cabin_C_Reserved     1.0\n",
       "Cabin_D_Reserved     0.0\n",
       "Cabin_E_Reserved     0.0\n",
       "Cabin_F_Reserved     0.0\n",
       "Cabin_G_Reserved     0.0\n",
       "Cabin_Unknown        0.0\n",
       "Embarked_S           1.0\n",
       "Embarked_C           0.0\n",
       "Embarked_Q           0.0\n",
       "Embarked_Unknown     0.0\n",
       "Name: 0, dtype: float64"
      ]
     },
     "execution_count": 40,
     "metadata": {},
     "output_type": "execute_result"
    }
   ],
   "source": [
    "train_prepared.iloc[0]"
   ]
  },
  {
   "cell_type": "code",
   "execution_count": 41,
   "metadata": {
    "execution": {
     "iopub.execute_input": "2021-06-24T05:01:47.226535Z",
     "iopub.status.busy": "2021-06-24T05:01:47.225908Z",
     "iopub.status.idle": "2021-06-24T05:01:47.230269Z",
     "shell.execute_reply": "2021-06-24T05:01:47.230736Z",
     "shell.execute_reply.started": "2021-06-24T02:50:42.804921Z"
    },
    "papermill": {
     "duration": 0.104536,
     "end_time": "2021-06-24T05:01:47.230901",
     "exception": false,
     "start_time": "2021-06-24T05:01:47.126365",
     "status": "completed"
    },
    "tags": []
   },
   "outputs": [],
   "source": [
    "median_pipeline = Pipeline([\n",
    "    ('imputer', SimpleImputer(strategy=\"median\")),\n",
    "    ('minmax_scaler', MinMaxScaler()),\n",
    "])\n",
    "\n",
    "mean_pipeline = Pipeline([\n",
    "    ('imputer', SimpleImputer(strategy=\"mean\")),\n",
    "    ('minmax_scaler', MinMaxScaler()),\n",
    "])"
   ]
  },
  {
   "cell_type": "code",
   "execution_count": 42,
   "metadata": {
    "execution": {
     "iopub.execute_input": "2021-06-24T05:01:47.424167Z",
     "iopub.status.busy": "2021-06-24T05:01:47.423539Z",
     "iopub.status.idle": "2021-06-24T05:01:47.427266Z",
     "shell.execute_reply": "2021-06-24T05:01:47.427709Z",
     "shell.execute_reply.started": "2021-06-24T02:50:42.815241Z"
    },
    "papermill": {
     "duration": 0.101718,
     "end_time": "2021-06-24T05:01:47.427874",
     "exception": false,
     "start_time": "2021-06-24T05:01:47.326156",
     "status": "completed"
    },
    "tags": []
   },
   "outputs": [],
   "source": [
    "median_repop = [\"Pclass\"]\n",
    "mean_repop = [\"Male\", \"Age\", \"SibSp\", \"Parch\", \"Fare\"]"
   ]
  },
  {
   "cell_type": "code",
   "execution_count": 43,
   "metadata": {
    "execution": {
     "iopub.execute_input": "2021-06-24T05:01:47.621634Z",
     "iopub.status.busy": "2021-06-24T05:01:47.621023Z",
     "iopub.status.idle": "2021-06-24T05:01:47.624531Z",
     "shell.execute_reply": "2021-06-24T05:01:47.624978Z",
     "shell.execute_reply.started": "2021-06-24T02:50:42.824974Z"
    },
    "papermill": {
     "duration": 0.102429,
     "end_time": "2021-06-24T05:01:47.625153",
     "exception": false,
     "start_time": "2021-06-24T05:01:47.522724",
     "status": "completed"
    },
    "tags": []
   },
   "outputs": [],
   "source": [
    "full_pipeline = ColumnTransformer(\n",
    "    [(\"median\", median_pipeline, median_repop), (\"mean\", mean_pipeline, mean_repop)],\n",
    "    remainder='passthrough'\n",
    ")"
   ]
  },
  {
   "cell_type": "code",
   "execution_count": 44,
   "metadata": {
    "execution": {
     "iopub.execute_input": "2021-06-24T05:01:47.816617Z",
     "iopub.status.busy": "2021-06-24T05:01:47.815995Z",
     "iopub.status.idle": "2021-06-24T05:01:47.832355Z",
     "shell.execute_reply": "2021-06-24T05:01:47.832870Z",
     "shell.execute_reply.started": "2021-06-24T02:50:42.835372Z"
    },
    "papermill": {
     "duration": 0.113717,
     "end_time": "2021-06-24T05:01:47.833046",
     "exception": false,
     "start_time": "2021-06-24T05:01:47.719329",
     "status": "completed"
    },
    "tags": []
   },
   "outputs": [],
   "source": [
    "train_prepared = full_pipeline.fit_transform(train_prepared)"
   ]
  },
  {
   "cell_type": "code",
   "execution_count": 45,
   "metadata": {
    "execution": {
     "iopub.execute_input": "2021-06-24T05:01:48.025583Z",
     "iopub.status.busy": "2021-06-24T05:01:48.024986Z",
     "iopub.status.idle": "2021-06-24T05:01:48.029418Z",
     "shell.execute_reply": "2021-06-24T05:01:48.029877Z",
     "shell.execute_reply.started": "2021-06-24T02:50:42.861741Z"
    },
    "papermill": {
     "duration": 0.103693,
     "end_time": "2021-06-24T05:01:48.030040",
     "exception": false,
     "start_time": "2021-06-24T05:01:47.926347",
     "status": "completed"
    },
    "tags": []
   },
   "outputs": [
    {
     "data": {
      "text/plain": [
       "array([0.        , 1.        , 0.56647399, 0.        , 0.        ,\n",
       "       0.0556283 , 0.        , 0.        , 1.        , 0.        ,\n",
       "       0.        , 0.        , 0.        , 0.        , 1.        ,\n",
       "       0.        , 0.        , 0.        ])"
      ]
     },
     "execution_count": 45,
     "metadata": {},
     "output_type": "execute_result"
    }
   ],
   "source": [
    "train_prepared[0]"
   ]
  },
  {
   "cell_type": "code",
   "execution_count": 46,
   "metadata": {
    "execution": {
     "iopub.execute_input": "2021-06-24T05:01:48.225490Z",
     "iopub.status.busy": "2021-06-24T05:01:48.224884Z",
     "iopub.status.idle": "2021-06-24T05:01:48.229329Z",
     "shell.execute_reply": "2021-06-24T05:01:48.228750Z",
     "shell.execute_reply.started": "2021-06-24T02:50:42.869149Z"
    },
    "papermill": {
     "duration": 0.102702,
     "end_time": "2021-06-24T05:01:48.229475",
     "exception": false,
     "start_time": "2021-06-24T05:01:48.126773",
     "status": "completed"
    },
    "tags": []
   },
   "outputs": [],
   "source": [
    "train = pd.DataFrame(train_prepared)"
   ]
  },
  {
   "cell_type": "code",
   "execution_count": 47,
   "metadata": {
    "execution": {
     "iopub.execute_input": "2021-06-24T05:01:48.422399Z",
     "iopub.status.busy": "2021-06-24T05:01:48.421801Z",
     "iopub.status.idle": "2021-06-24T05:01:48.487095Z",
     "shell.execute_reply": "2021-06-24T05:01:48.486464Z",
     "shell.execute_reply.started": "2021-06-24T02:50:42.879737Z"
    },
    "papermill": {
     "duration": 0.163039,
     "end_time": "2021-06-24T05:01:48.487263",
     "exception": false,
     "start_time": "2021-06-24T05:01:48.324224",
     "status": "completed"
    },
    "tags": []
   },
   "outputs": [
    {
     "data": {
      "text/html": [
       "<div>\n",
       "<style scoped>\n",
       "    .dataframe tbody tr th:only-of-type {\n",
       "        vertical-align: middle;\n",
       "    }\n",
       "\n",
       "    .dataframe tbody tr th {\n",
       "        vertical-align: top;\n",
       "    }\n",
       "\n",
       "    .dataframe thead th {\n",
       "        text-align: right;\n",
       "    }\n",
       "</style>\n",
       "<table border=\"1\" class=\"dataframe\">\n",
       "  <thead>\n",
       "    <tr style=\"text-align: right;\">\n",
       "      <th></th>\n",
       "      <th>0</th>\n",
       "      <th>1</th>\n",
       "      <th>2</th>\n",
       "      <th>3</th>\n",
       "      <th>4</th>\n",
       "      <th>5</th>\n",
       "      <th>6</th>\n",
       "      <th>7</th>\n",
       "      <th>8</th>\n",
       "      <th>9</th>\n",
       "      <th>10</th>\n",
       "      <th>11</th>\n",
       "      <th>12</th>\n",
       "      <th>13</th>\n",
       "      <th>14</th>\n",
       "      <th>15</th>\n",
       "      <th>16</th>\n",
       "      <th>17</th>\n",
       "    </tr>\n",
       "  </thead>\n",
       "  <tbody>\n",
       "    <tr>\n",
       "      <th>count</th>\n",
       "      <td>712.000000</td>\n",
       "      <td>712.000000</td>\n",
       "      <td>712.000000</td>\n",
       "      <td>712.000000</td>\n",
       "      <td>712.000000</td>\n",
       "      <td>712.000000</td>\n",
       "      <td>712.000000</td>\n",
       "      <td>712.000000</td>\n",
       "      <td>712.000000</td>\n",
       "      <td>712.000000</td>\n",
       "      <td>712.000000</td>\n",
       "      <td>712.000000</td>\n",
       "      <td>712.000000</td>\n",
       "      <td>712.000000</td>\n",
       "      <td>712.000000</td>\n",
       "      <td>712.000000</td>\n",
       "      <td>712.000000</td>\n",
       "      <td>712.000000</td>\n",
       "    </tr>\n",
       "    <tr>\n",
       "      <th>mean</th>\n",
       "      <td>0.665028</td>\n",
       "      <td>0.655899</td>\n",
       "      <td>0.365404</td>\n",
       "      <td>0.069171</td>\n",
       "      <td>0.063202</td>\n",
       "      <td>0.063604</td>\n",
       "      <td>0.014045</td>\n",
       "      <td>0.053371</td>\n",
       "      <td>0.073034</td>\n",
       "      <td>0.026685</td>\n",
       "      <td>0.035112</td>\n",
       "      <td>0.016854</td>\n",
       "      <td>0.008427</td>\n",
       "      <td>0.778090</td>\n",
       "      <td>0.737360</td>\n",
       "      <td>0.175562</td>\n",
       "      <td>0.084270</td>\n",
       "      <td>0.002809</td>\n",
       "    </tr>\n",
       "    <tr>\n",
       "      <th>std</th>\n",
       "      <td>0.412292</td>\n",
       "      <td>0.475408</td>\n",
       "      <td>0.163286</td>\n",
       "      <td>0.147051</td>\n",
       "      <td>0.131945</td>\n",
       "      <td>0.101438</td>\n",
       "      <td>0.117759</td>\n",
       "      <td>0.224930</td>\n",
       "      <td>0.260375</td>\n",
       "      <td>0.161276</td>\n",
       "      <td>0.184193</td>\n",
       "      <td>0.128815</td>\n",
       "      <td>0.091475</td>\n",
       "      <td>0.415823</td>\n",
       "      <td>0.440378</td>\n",
       "      <td>0.380714</td>\n",
       "      <td>0.277987</td>\n",
       "      <td>0.052963</td>\n",
       "    </tr>\n",
       "    <tr>\n",
       "      <th>min</th>\n",
       "      <td>0.000000</td>\n",
       "      <td>0.000000</td>\n",
       "      <td>0.000000</td>\n",
       "      <td>0.000000</td>\n",
       "      <td>0.000000</td>\n",
       "      <td>0.000000</td>\n",
       "      <td>0.000000</td>\n",
       "      <td>0.000000</td>\n",
       "      <td>0.000000</td>\n",
       "      <td>0.000000</td>\n",
       "      <td>0.000000</td>\n",
       "      <td>0.000000</td>\n",
       "      <td>0.000000</td>\n",
       "      <td>0.000000</td>\n",
       "      <td>0.000000</td>\n",
       "      <td>0.000000</td>\n",
       "      <td>0.000000</td>\n",
       "      <td>0.000000</td>\n",
       "    </tr>\n",
       "    <tr>\n",
       "      <th>25%</th>\n",
       "      <td>0.500000</td>\n",
       "      <td>0.000000</td>\n",
       "      <td>0.271174</td>\n",
       "      <td>0.000000</td>\n",
       "      <td>0.000000</td>\n",
       "      <td>0.015469</td>\n",
       "      <td>0.000000</td>\n",
       "      <td>0.000000</td>\n",
       "      <td>0.000000</td>\n",
       "      <td>0.000000</td>\n",
       "      <td>0.000000</td>\n",
       "      <td>0.000000</td>\n",
       "      <td>0.000000</td>\n",
       "      <td>1.000000</td>\n",
       "      <td>0.000000</td>\n",
       "      <td>0.000000</td>\n",
       "      <td>0.000000</td>\n",
       "      <td>0.000000</td>\n",
       "    </tr>\n",
       "    <tr>\n",
       "      <th>50%</th>\n",
       "      <td>1.000000</td>\n",
       "      <td>1.000000</td>\n",
       "      <td>0.365404</td>\n",
       "      <td>0.000000</td>\n",
       "      <td>0.000000</td>\n",
       "      <td>0.028213</td>\n",
       "      <td>0.000000</td>\n",
       "      <td>0.000000</td>\n",
       "      <td>0.000000</td>\n",
       "      <td>0.000000</td>\n",
       "      <td>0.000000</td>\n",
       "      <td>0.000000</td>\n",
       "      <td>0.000000</td>\n",
       "      <td>1.000000</td>\n",
       "      <td>1.000000</td>\n",
       "      <td>0.000000</td>\n",
       "      <td>0.000000</td>\n",
       "      <td>0.000000</td>\n",
       "    </tr>\n",
       "    <tr>\n",
       "      <th>75%</th>\n",
       "      <td>1.000000</td>\n",
       "      <td>1.000000</td>\n",
       "      <td>0.434531</td>\n",
       "      <td>0.125000</td>\n",
       "      <td>0.000000</td>\n",
       "      <td>0.059532</td>\n",
       "      <td>0.000000</td>\n",
       "      <td>0.000000</td>\n",
       "      <td>0.000000</td>\n",
       "      <td>0.000000</td>\n",
       "      <td>0.000000</td>\n",
       "      <td>0.000000</td>\n",
       "      <td>0.000000</td>\n",
       "      <td>1.000000</td>\n",
       "      <td>1.000000</td>\n",
       "      <td>0.000000</td>\n",
       "      <td>0.000000</td>\n",
       "      <td>0.000000</td>\n",
       "    </tr>\n",
       "    <tr>\n",
       "      <th>max</th>\n",
       "      <td>1.000000</td>\n",
       "      <td>1.000000</td>\n",
       "      <td>1.000000</td>\n",
       "      <td>1.000000</td>\n",
       "      <td>1.000000</td>\n",
       "      <td>1.000000</td>\n",
       "      <td>1.000000</td>\n",
       "      <td>1.000000</td>\n",
       "      <td>1.000000</td>\n",
       "      <td>1.000000</td>\n",
       "      <td>1.000000</td>\n",
       "      <td>1.000000</td>\n",
       "      <td>1.000000</td>\n",
       "      <td>1.000000</td>\n",
       "      <td>1.000000</td>\n",
       "      <td>1.000000</td>\n",
       "      <td>1.000000</td>\n",
       "      <td>1.000000</td>\n",
       "    </tr>\n",
       "  </tbody>\n",
       "</table>\n",
       "</div>"
      ],
      "text/plain": [
       "               0           1           2           3           4           5   \\\n",
       "count  712.000000  712.000000  712.000000  712.000000  712.000000  712.000000   \n",
       "mean     0.665028    0.655899    0.365404    0.069171    0.063202    0.063604   \n",
       "std      0.412292    0.475408    0.163286    0.147051    0.131945    0.101438   \n",
       "min      0.000000    0.000000    0.000000    0.000000    0.000000    0.000000   \n",
       "25%      0.500000    0.000000    0.271174    0.000000    0.000000    0.015469   \n",
       "50%      1.000000    1.000000    0.365404    0.000000    0.000000    0.028213   \n",
       "75%      1.000000    1.000000    0.434531    0.125000    0.000000    0.059532   \n",
       "max      1.000000    1.000000    1.000000    1.000000    1.000000    1.000000   \n",
       "\n",
       "               6           7           8           9           10          11  \\\n",
       "count  712.000000  712.000000  712.000000  712.000000  712.000000  712.000000   \n",
       "mean     0.014045    0.053371    0.073034    0.026685    0.035112    0.016854   \n",
       "std      0.117759    0.224930    0.260375    0.161276    0.184193    0.128815   \n",
       "min      0.000000    0.000000    0.000000    0.000000    0.000000    0.000000   \n",
       "25%      0.000000    0.000000    0.000000    0.000000    0.000000    0.000000   \n",
       "50%      0.000000    0.000000    0.000000    0.000000    0.000000    0.000000   \n",
       "75%      0.000000    0.000000    0.000000    0.000000    0.000000    0.000000   \n",
       "max      1.000000    1.000000    1.000000    1.000000    1.000000    1.000000   \n",
       "\n",
       "               12          13          14          15          16          17  \n",
       "count  712.000000  712.000000  712.000000  712.000000  712.000000  712.000000  \n",
       "mean     0.008427    0.778090    0.737360    0.175562    0.084270    0.002809  \n",
       "std      0.091475    0.415823    0.440378    0.380714    0.277987    0.052963  \n",
       "min      0.000000    0.000000    0.000000    0.000000    0.000000    0.000000  \n",
       "25%      0.000000    1.000000    0.000000    0.000000    0.000000    0.000000  \n",
       "50%      0.000000    1.000000    1.000000    0.000000    0.000000    0.000000  \n",
       "75%      0.000000    1.000000    1.000000    0.000000    0.000000    0.000000  \n",
       "max      1.000000    1.000000    1.000000    1.000000    1.000000    1.000000  "
      ]
     },
     "execution_count": 47,
     "metadata": {},
     "output_type": "execute_result"
    }
   ],
   "source": [
    "train.describe()"
   ]
  },
  {
   "cell_type": "markdown",
   "metadata": {
    "papermill": {
     "duration": 0.096569,
     "end_time": "2021-06-24T05:01:48.681258",
     "exception": false,
     "start_time": "2021-06-24T05:01:48.584689",
     "status": "completed"
    },
    "tags": []
   },
   "source": [
    "# Select and Train Model"
   ]
  },
  {
   "cell_type": "code",
   "execution_count": 48,
   "metadata": {
    "execution": {
     "iopub.execute_input": "2021-06-24T05:01:48.879703Z",
     "iopub.status.busy": "2021-06-24T05:01:48.878994Z",
     "iopub.status.idle": "2021-06-24T05:01:48.951425Z",
     "shell.execute_reply": "2021-06-24T05:01:48.950694Z",
     "shell.execute_reply.started": "2021-06-24T03:02:22.163138Z"
    },
    "papermill": {
     "duration": 0.173123,
     "end_time": "2021-06-24T05:01:48.951585",
     "exception": false,
     "start_time": "2021-06-24T05:01:48.778462",
     "status": "completed"
    },
    "tags": []
   },
   "outputs": [],
   "source": [
    "from sklearn.model_selection import cross_val_score\n",
    "\n",
    "from sklearn.linear_model import LogisticRegression\n",
    "from sklearn.neural_network import MLPClassifier\n",
    "from sklearn.neighbors import KNeighborsClassifier\n",
    "from sklearn.svm import SVC\n",
    "from sklearn.tree import DecisionTreeClassifier\n",
    "from sklearn.ensemble import RandomForestClassifier, AdaBoostClassifier\n",
    "from sklearn.naive_bayes import GaussianNB\n",
    "\n",
    "from sklearn.metrics import log_loss, accuracy_score"
   ]
  },
  {
   "cell_type": "code",
   "execution_count": 49,
   "metadata": {
    "execution": {
     "iopub.execute_input": "2021-06-24T05:01:49.149197Z",
     "iopub.status.busy": "2021-06-24T05:01:49.148228Z",
     "iopub.status.idle": "2021-06-24T05:01:49.150623Z",
     "shell.execute_reply": "2021-06-24T05:01:49.151106Z",
     "shell.execute_reply.started": "2021-06-24T02:55:43.998616Z"
    },
    "papermill": {
     "duration": 0.103599,
     "end_time": "2021-06-24T05:01:49.151291",
     "exception": false,
     "start_time": "2021-06-24T05:01:49.047692",
     "status": "completed"
    },
    "tags": []
   },
   "outputs": [],
   "source": [
    "def display_scores(scores):\n",
    "    print(\"Scores:\", scores)\n",
    "    print(\"Mean:\", scores.mean())\n",
    "    print(\"Standard deviation:\", scores.std())"
   ]
  },
  {
   "cell_type": "code",
   "execution_count": 50,
   "metadata": {
    "execution": {
     "iopub.execute_input": "2021-06-24T05:01:49.348210Z",
     "iopub.status.busy": "2021-06-24T05:01:49.347568Z",
     "iopub.status.idle": "2021-06-24T05:01:49.350270Z",
     "shell.execute_reply": "2021-06-24T05:01:49.349648Z",
     "shell.execute_reply.started": "2021-06-24T03:12:23.610819Z"
    },
    "papermill": {
     "duration": 0.103297,
     "end_time": "2021-06-24T05:01:49.350398",
     "exception": false,
     "start_time": "2021-06-24T05:01:49.247101",
     "status": "completed"
    },
    "tags": []
   },
   "outputs": [],
   "source": [
    "clf = LogisticRegression(random_state=0)\n",
    "mlp = MLPClassifier(alpha=1, max_iter=1000)\n",
    "knn = KNeighborsClassifier()\n",
    "scv = SVC(kernel=\"linear\", C=0.025)\n",
    "tree = DecisionTreeClassifier()\n",
    "adaboost = AdaBoostClassifier()\n",
    "forest = RandomForestClassifier()\n",
    "gauss = GaussianNB()\n",
    "\n",
    "names = [\"LogReg\", \"MLP\", \"KNN\", \"SCV\", \"Tree\", \"AdaBoost\", \"Forest\", \"GaussNB\"]\n",
    "models = [clf, mlp, knn, scv, tree, adaboost, forest, gauss]"
   ]
  },
  {
   "cell_type": "code",
   "execution_count": 51,
   "metadata": {
    "execution": {
     "iopub.execute_input": "2021-06-24T05:01:49.541863Z",
     "iopub.status.busy": "2021-06-24T05:01:49.541279Z",
     "iopub.status.idle": "2021-06-24T05:01:49.807265Z",
     "shell.execute_reply": "2021-06-24T05:01:49.808049Z",
     "shell.execute_reply.started": "2021-06-24T03:02:37.580768Z"
    },
    "papermill": {
     "duration": 0.364359,
     "end_time": "2021-06-24T05:01:49.808328",
     "exception": false,
     "start_time": "2021-06-24T05:01:49.443969",
     "status": "completed"
    },
    "tags": []
   },
   "outputs": [
    {
     "name": "stdout",
     "output_type": "stream",
     "text": [
      "Scores: [0.81944444 0.72222222 0.69014085 0.91549296 0.84507042 0.74647887\n",
      " 0.71830986 0.76056338 0.77464789 0.90140845]\n",
      "Mean: 0.7893779342723005\n",
      "Standard deviation: 0.07399839668406688\n"
     ]
    }
   ],
   "source": [
    "scores = cross_val_score(clf, train_prepared, train_labels, scoring=\"accuracy\", cv=10)\n",
    "display_scores(scores)"
   ]
  },
  {
   "cell_type": "code",
   "execution_count": 52,
   "metadata": {
    "execution": {
     "iopub.execute_input": "2021-06-24T05:01:50.054940Z",
     "iopub.status.busy": "2021-06-24T05:01:50.053970Z",
     "iopub.status.idle": "2021-06-24T05:02:01.378190Z",
     "shell.execute_reply": "2021-06-24T05:02:01.379240Z",
     "shell.execute_reply.started": "2021-06-24T02:56:31.679513Z"
    },
    "papermill": {
     "duration": 11.425636,
     "end_time": "2021-06-24T05:02:01.379558",
     "exception": false,
     "start_time": "2021-06-24T05:01:49.953922",
     "status": "completed"
    },
    "tags": []
   },
   "outputs": [
    {
     "name": "stdout",
     "output_type": "stream",
     "text": [
      "Scores: [0.81944444 0.72222222 0.70422535 0.92957746 0.84507042 0.73239437\n",
      " 0.73239437 0.77464789 0.77464789 0.91549296]\n",
      "Mean: 0.7950117370892019\n",
      "Standard deviation: 0.07611715508393532\n"
     ]
    }
   ],
   "source": [
    "scores = cross_val_score(mlp, train_prepared, train_labels, scoring=\"accuracy\", cv=10)\n",
    "display_scores(scores)"
   ]
  },
  {
   "cell_type": "code",
   "execution_count": 53,
   "metadata": {
    "execution": {
     "iopub.execute_input": "2021-06-24T05:02:01.625293Z",
     "iopub.status.busy": "2021-06-24T05:02:01.624648Z",
     "iopub.status.idle": "2021-06-24T05:02:01.724369Z",
     "shell.execute_reply": "2021-06-24T05:02:01.723402Z",
     "shell.execute_reply.started": "2021-06-24T02:57:53.422549Z"
    },
    "papermill": {
     "duration": 0.200806,
     "end_time": "2021-06-24T05:02:01.724614",
     "exception": false,
     "start_time": "2021-06-24T05:02:01.523808",
     "status": "completed"
    },
    "tags": []
   },
   "outputs": [
    {
     "name": "stdout",
     "output_type": "stream",
     "text": [
      "Scores: [0.80555556 0.73611111 0.69014085 0.88732394 0.83098592 0.78873239\n",
      " 0.76056338 0.78873239 0.77464789 0.91549296]\n",
      "Mean: 0.7978286384976526\n",
      "Standard deviation: 0.06364798188876028\n"
     ]
    }
   ],
   "source": [
    "scores = cross_val_score(knn, train_prepared, train_labels, scoring=\"accuracy\", cv=10)\n",
    "display_scores(scores)"
   ]
  },
  {
   "cell_type": "code",
   "execution_count": 54,
   "metadata": {
    "execution": {
     "iopub.execute_input": "2021-06-24T05:02:01.970342Z",
     "iopub.status.busy": "2021-06-24T05:02:01.969769Z",
     "iopub.status.idle": "2021-06-24T05:02:02.097239Z",
     "shell.execute_reply": "2021-06-24T05:02:02.097721Z",
     "shell.execute_reply.started": "2021-06-24T02:58:02.517217Z"
    },
    "papermill": {
     "duration": 0.229326,
     "end_time": "2021-06-24T05:02:02.097894",
     "exception": false,
     "start_time": "2021-06-24T05:02:01.868568",
     "status": "completed"
    },
    "tags": []
   },
   "outputs": [
    {
     "name": "stdout",
     "output_type": "stream",
     "text": [
      "Scores: [0.83333333 0.75       0.69014085 0.95774648 0.81690141 0.67605634\n",
      " 0.73239437 0.77464789 0.76056338 0.88732394]\n",
      "Mean: 0.7879107981220658\n",
      "Standard deviation: 0.0831530318211632\n"
     ]
    }
   ],
   "source": [
    "scores = cross_val_score(scv, train_prepared, train_labels, scoring=\"accuracy\", cv=10)\n",
    "display_scores(scores)"
   ]
  },
  {
   "cell_type": "code",
   "execution_count": 55,
   "metadata": {
    "execution": {
     "iopub.execute_input": "2021-06-24T05:02:02.298111Z",
     "iopub.status.busy": "2021-06-24T05:02:02.297494Z",
     "iopub.status.idle": "2021-06-24T05:02:02.333661Z",
     "shell.execute_reply": "2021-06-24T05:02:02.333092Z",
     "shell.execute_reply.started": "2021-06-24T02:58:08.801375Z"
    },
    "papermill": {
     "duration": 0.139413,
     "end_time": "2021-06-24T05:02:02.333794",
     "exception": false,
     "start_time": "2021-06-24T05:02:02.194381",
     "status": "completed"
    },
    "tags": []
   },
   "outputs": [
    {
     "name": "stdout",
     "output_type": "stream",
     "text": [
      "Scores: [0.80555556 0.69444444 0.73239437 0.78873239 0.78873239 0.69014085\n",
      " 0.77464789 0.78873239 0.77464789 0.81690141]\n",
      "Mean: 0.7654929577464789\n",
      "Standard deviation: 0.04225757819738912\n"
     ]
    }
   ],
   "source": [
    "scores = cross_val_score(tree, train_prepared, train_labels, scoring=\"accuracy\", cv=10)\n",
    "display_scores(scores)"
   ]
  },
  {
   "cell_type": "code",
   "execution_count": 56,
   "metadata": {
    "execution": {
     "iopub.execute_input": "2021-06-24T05:02:02.530354Z",
     "iopub.status.busy": "2021-06-24T05:02:02.529728Z",
     "iopub.status.idle": "2021-06-24T05:02:03.541255Z",
     "shell.execute_reply": "2021-06-24T05:02:03.541769Z",
     "shell.execute_reply.started": "2021-06-24T02:58:16.763161Z"
    },
    "papermill": {
     "duration": 1.111418,
     "end_time": "2021-06-24T05:02:03.541921",
     "exception": false,
     "start_time": "2021-06-24T05:02:02.430503",
     "status": "completed"
    },
    "tags": []
   },
   "outputs": [
    {
     "name": "stdout",
     "output_type": "stream",
     "text": [
      "Scores: [0.86111111 0.75       0.70422535 0.92957746 0.84507042 0.76056338\n",
      " 0.78873239 0.81690141 0.73239437 0.88732394]\n",
      "Mean: 0.8075899843505476\n",
      "Standard deviation: 0.06914968633409725\n"
     ]
    }
   ],
   "source": [
    "scores = cross_val_score(adaboost, train_prepared, train_labels, scoring=\"accuracy\", cv=10)\n",
    "display_scores(scores)"
   ]
  },
  {
   "cell_type": "code",
   "execution_count": 57,
   "metadata": {
    "execution": {
     "iopub.execute_input": "2021-06-24T05:02:03.743676Z",
     "iopub.status.busy": "2021-06-24T05:02:03.743014Z",
     "iopub.status.idle": "2021-06-24T05:02:05.938916Z",
     "shell.execute_reply": "2021-06-24T05:02:05.938354Z",
     "shell.execute_reply.started": "2021-06-24T02:58:23.694962Z"
    },
    "papermill": {
     "duration": 2.298708,
     "end_time": "2021-06-24T05:02:05.939063",
     "exception": false,
     "start_time": "2021-06-24T05:02:03.640355",
     "status": "completed"
    },
    "tags": []
   },
   "outputs": [
    {
     "name": "stdout",
     "output_type": "stream",
     "text": [
      "Scores: [0.80555556 0.69444444 0.73239437 0.85915493 0.81690141 0.78873239\n",
      " 0.77464789 0.78873239 0.77464789 0.92957746]\n",
      "Mean: 0.7964788732394366\n",
      "Standard deviation: 0.06142803731289005\n"
     ]
    }
   ],
   "source": [
    "scores = cross_val_score(forest, train_prepared, train_labels, scoring=\"accuracy\", cv=10)\n",
    "display_scores(scores)"
   ]
  },
  {
   "cell_type": "code",
   "execution_count": 58,
   "metadata": {
    "execution": {
     "iopub.execute_input": "2021-06-24T05:02:06.138983Z",
     "iopub.status.busy": "2021-06-24T05:02:06.138340Z",
     "iopub.status.idle": "2021-06-24T05:02:06.164188Z",
     "shell.execute_reply": "2021-06-24T05:02:06.163679Z",
     "shell.execute_reply.started": "2021-06-24T02:58:28.502819Z"
    },
    "papermill": {
     "duration": 0.128646,
     "end_time": "2021-06-24T05:02:06.164325",
     "exception": false,
     "start_time": "2021-06-24T05:02:06.035679",
     "status": "completed"
    },
    "tags": []
   },
   "outputs": [
    {
     "name": "stdout",
     "output_type": "stream",
     "text": [
      "Scores: [0.69444444 0.68055556 0.70422535 0.71830986 0.71830986 0.70422535\n",
      " 0.71830986 0.69014085 0.67605634 0.77464789]\n",
      "Mean: 0.7079225352112676\n",
      "Standard deviation: 0.026581109777045378\n"
     ]
    }
   ],
   "source": [
    "scores = cross_val_score(gauss, train_prepared, train_labels, scoring=\"accuracy\", cv=10)\n",
    "display_scores(scores)"
   ]
  },
  {
   "cell_type": "code",
   "execution_count": 59,
   "metadata": {
    "execution": {
     "iopub.execute_input": "2021-06-24T05:02:06.366632Z",
     "iopub.status.busy": "2021-06-24T05:02:06.365890Z",
     "iopub.status.idle": "2021-06-24T05:02:06.368482Z",
     "shell.execute_reply": "2021-06-24T05:02:06.368914Z",
     "shell.execute_reply.started": "2021-06-24T03:13:11.239328Z"
    },
    "papermill": {
     "duration": 0.107222,
     "end_time": "2021-06-24T05:02:06.369069",
     "exception": false,
     "start_time": "2021-06-24T05:02:06.261847",
     "status": "completed"
    },
    "tags": []
   },
   "outputs": [],
   "source": [
    "def compare_performance_cv(names, models, X, y):\n",
    "    means = []\n",
    "    stdv = []\n",
    "    for m in models:\n",
    "        scores = cross_val_score(m, train_prepared, train_labels, scoring=\"accuracy\", cv=10)\n",
    "        means.append(scores.mean())\n",
    "        stdv.append(scores.std())\n",
    "    \n",
    "    d = {'model':names, 'means': means, 'stdv': stdv}\n",
    "    df = pd.DataFrame(data=d)\n",
    "    return df"
   ]
  },
  {
   "cell_type": "code",
   "execution_count": 60,
   "metadata": {
    "execution": {
     "iopub.execute_input": "2021-06-24T05:02:06.567674Z",
     "iopub.status.busy": "2021-06-24T05:02:06.566993Z",
     "iopub.status.idle": "2021-06-24T05:02:21.420321Z",
     "shell.execute_reply": "2021-06-24T05:02:21.419646Z",
     "shell.execute_reply.started": "2021-06-24T03:13:11.638818Z"
    },
    "papermill": {
     "duration": 14.954469,
     "end_time": "2021-06-24T05:02:21.420465",
     "exception": false,
     "start_time": "2021-06-24T05:02:06.465996",
     "status": "completed"
    },
    "tags": []
   },
   "outputs": [],
   "source": [
    "perf_cv = compare_performance_cv(names, models, train_prepared, train_labels)"
   ]
  },
  {
   "cell_type": "code",
   "execution_count": 61,
   "metadata": {
    "execution": {
     "iopub.execute_input": "2021-06-24T05:02:21.625362Z",
     "iopub.status.busy": "2021-06-24T05:02:21.624507Z",
     "iopub.status.idle": "2021-06-24T05:02:21.627961Z",
     "shell.execute_reply": "2021-06-24T05:02:21.628427Z",
     "shell.execute_reply.started": "2021-06-24T03:13:26.626693Z"
    },
    "papermill": {
     "duration": 0.111259,
     "end_time": "2021-06-24T05:02:21.628590",
     "exception": false,
     "start_time": "2021-06-24T05:02:21.517331",
     "status": "completed"
    },
    "tags": []
   },
   "outputs": [
    {
     "data": {
      "text/html": [
       "<div>\n",
       "<style scoped>\n",
       "    .dataframe tbody tr th:only-of-type {\n",
       "        vertical-align: middle;\n",
       "    }\n",
       "\n",
       "    .dataframe tbody tr th {\n",
       "        vertical-align: top;\n",
       "    }\n",
       "\n",
       "    .dataframe thead th {\n",
       "        text-align: right;\n",
       "    }\n",
       "</style>\n",
       "<table border=\"1\" class=\"dataframe\">\n",
       "  <thead>\n",
       "    <tr style=\"text-align: right;\">\n",
       "      <th></th>\n",
       "      <th>model</th>\n",
       "      <th>means</th>\n",
       "      <th>stdv</th>\n",
       "    </tr>\n",
       "  </thead>\n",
       "  <tbody>\n",
       "    <tr>\n",
       "      <th>0</th>\n",
       "      <td>LogReg</td>\n",
       "      <td>0.789378</td>\n",
       "      <td>0.073998</td>\n",
       "    </tr>\n",
       "    <tr>\n",
       "      <th>1</th>\n",
       "      <td>MLP</td>\n",
       "      <td>0.796381</td>\n",
       "      <td>0.085045</td>\n",
       "    </tr>\n",
       "    <tr>\n",
       "      <th>2</th>\n",
       "      <td>KNN</td>\n",
       "      <td>0.797829</td>\n",
       "      <td>0.063648</td>\n",
       "    </tr>\n",
       "    <tr>\n",
       "      <th>3</th>\n",
       "      <td>SCV</td>\n",
       "      <td>0.787911</td>\n",
       "      <td>0.083153</td>\n",
       "    </tr>\n",
       "    <tr>\n",
       "      <th>4</th>\n",
       "      <td>Tree</td>\n",
       "      <td>0.766882</td>\n",
       "      <td>0.044204</td>\n",
       "    </tr>\n",
       "    <tr>\n",
       "      <th>5</th>\n",
       "      <td>AdaBoost</td>\n",
       "      <td>0.807590</td>\n",
       "      <td>0.069150</td>\n",
       "    </tr>\n",
       "    <tr>\n",
       "      <th>6</th>\n",
       "      <td>Forest</td>\n",
       "      <td>0.796479</td>\n",
       "      <td>0.058449</td>\n",
       "    </tr>\n",
       "    <tr>\n",
       "      <th>7</th>\n",
       "      <td>GaussNB</td>\n",
       "      <td>0.707923</td>\n",
       "      <td>0.026581</td>\n",
       "    </tr>\n",
       "  </tbody>\n",
       "</table>\n",
       "</div>"
      ],
      "text/plain": [
       "      model     means      stdv\n",
       "0    LogReg  0.789378  0.073998\n",
       "1       MLP  0.796381  0.085045\n",
       "2       KNN  0.797829  0.063648\n",
       "3       SCV  0.787911  0.083153\n",
       "4      Tree  0.766882  0.044204\n",
       "5  AdaBoost  0.807590  0.069150\n",
       "6    Forest  0.796479  0.058449\n",
       "7   GaussNB  0.707923  0.026581"
      ]
     },
     "execution_count": 61,
     "metadata": {},
     "output_type": "execute_result"
    }
   ],
   "source": [
    "perf_cv"
   ]
  },
  {
   "cell_type": "markdown",
   "metadata": {
    "papermill": {
     "duration": 0.096618,
     "end_time": "2021-06-24T05:02:21.822680",
     "exception": false,
     "start_time": "2021-06-24T05:02:21.726062",
     "status": "completed"
    },
    "tags": []
   },
   "source": [
    "KNN, Forest, and AdaBoost give good results"
   ]
  },
  {
   "cell_type": "markdown",
   "metadata": {
    "papermill": {
     "duration": 0.097825,
     "end_time": "2021-06-24T05:02:22.017039",
     "exception": false,
     "start_time": "2021-06-24T05:02:21.919214",
     "status": "completed"
    },
    "tags": []
   },
   "source": [
    "## GridSearch"
   ]
  },
  {
   "cell_type": "code",
   "execution_count": 62,
   "metadata": {
    "execution": {
     "iopub.execute_input": "2021-06-24T05:02:22.216862Z",
     "iopub.status.busy": "2021-06-24T05:02:22.216279Z",
     "iopub.status.idle": "2021-06-24T05:02:22.220960Z",
     "shell.execute_reply": "2021-06-24T05:02:22.220487Z",
     "shell.execute_reply.started": "2021-06-24T03:18:56.023926Z"
    },
    "papermill": {
     "duration": 0.105651,
     "end_time": "2021-06-24T05:02:22.221090",
     "exception": false,
     "start_time": "2021-06-24T05:02:22.115439",
     "status": "completed"
    },
    "tags": []
   },
   "outputs": [],
   "source": [
    "from sklearn.model_selection import GridSearchCV"
   ]
  },
  {
   "cell_type": "code",
   "execution_count": 63,
   "metadata": {
    "execution": {
     "iopub.execute_input": "2021-06-24T05:02:22.419773Z",
     "iopub.status.busy": "2021-06-24T05:02:22.419084Z",
     "iopub.status.idle": "2021-06-24T05:02:22.423534Z",
     "shell.execute_reply": "2021-06-24T05:02:22.423016Z",
     "shell.execute_reply.started": "2021-06-24T03:26:30.941494Z"
    },
    "papermill": {
     "duration": 0.105231,
     "end_time": "2021-06-24T05:02:22.423671",
     "exception": false,
     "start_time": "2021-06-24T05:02:22.318440",
     "status": "completed"
    },
    "tags": []
   },
   "outputs": [],
   "source": [
    "param_grid = [\n",
    "    {'n_neighbors': [3, 10, 30], 'metric': [\"euclidean\", \"manhattan\", \"minkowski\"]}\n",
    "]"
   ]
  },
  {
   "cell_type": "code",
   "execution_count": 64,
   "metadata": {
    "execution": {
     "iopub.execute_input": "2021-06-24T05:02:22.626065Z",
     "iopub.status.busy": "2021-06-24T05:02:22.625468Z",
     "iopub.status.idle": "2021-06-24T05:02:22.627338Z",
     "shell.execute_reply": "2021-06-24T05:02:22.627757Z",
     "shell.execute_reply.started": "2021-06-24T03:26:31.301741Z"
    },
    "papermill": {
     "duration": 0.105912,
     "end_time": "2021-06-24T05:02:22.627930",
     "exception": false,
     "start_time": "2021-06-24T05:02:22.522018",
     "status": "completed"
    },
    "tags": []
   },
   "outputs": [],
   "source": [
    "knn = KNeighborsClassifier()"
   ]
  },
  {
   "cell_type": "code",
   "execution_count": 65,
   "metadata": {
    "execution": {
     "iopub.execute_input": "2021-06-24T05:02:22.826951Z",
     "iopub.status.busy": "2021-06-24T05:02:22.826316Z",
     "iopub.status.idle": "2021-06-24T05:02:22.829774Z",
     "shell.execute_reply": "2021-06-24T05:02:22.830232Z",
     "shell.execute_reply.started": "2021-06-24T03:26:31.484697Z"
    },
    "papermill": {
     "duration": 0.105008,
     "end_time": "2021-06-24T05:02:22.830390",
     "exception": false,
     "start_time": "2021-06-24T05:02:22.725382",
     "status": "completed"
    },
    "tags": []
   },
   "outputs": [],
   "source": [
    "grid_search = GridSearchCV(knn, param_grid, cv=5, scoring='accuracy', return_train_score=True)"
   ]
  },
  {
   "cell_type": "code",
   "execution_count": 66,
   "metadata": {
    "execution": {
     "iopub.execute_input": "2021-06-24T05:02:23.033565Z",
     "iopub.status.busy": "2021-06-24T05:02:23.032950Z",
     "iopub.status.idle": "2021-06-24T05:02:25.446646Z",
     "shell.execute_reply": "2021-06-24T05:02:25.447513Z",
     "shell.execute_reply.started": "2021-06-24T03:26:31.651862Z"
    },
    "papermill": {
     "duration": 2.518808,
     "end_time": "2021-06-24T05:02:25.447792",
     "exception": false,
     "start_time": "2021-06-24T05:02:22.928984",
     "status": "completed"
    },
    "tags": []
   },
   "outputs": [
    {
     "data": {
      "text/plain": [
       "GridSearchCV(cv=5, estimator=KNeighborsClassifier(),\n",
       "             param_grid=[{'metric': ['euclidean', 'manhattan', 'minkowski'],\n",
       "                          'n_neighbors': [3, 10, 30]}],\n",
       "             return_train_score=True, scoring='accuracy')"
      ]
     },
     "execution_count": 66,
     "metadata": {},
     "output_type": "execute_result"
    }
   ],
   "source": [
    "grid_search.fit(train_prepared, train_labels)"
   ]
  },
  {
   "cell_type": "code",
   "execution_count": 67,
   "metadata": {
    "execution": {
     "iopub.execute_input": "2021-06-24T05:02:25.678243Z",
     "iopub.status.busy": "2021-06-24T05:02:25.677555Z",
     "iopub.status.idle": "2021-06-24T05:02:25.681283Z",
     "shell.execute_reply": "2021-06-24T05:02:25.680764Z",
     "shell.execute_reply.started": "2021-06-24T03:26:47.139464Z"
    },
    "papermill": {
     "duration": 0.107733,
     "end_time": "2021-06-24T05:02:25.681423",
     "exception": false,
     "start_time": "2021-06-24T05:02:25.573690",
     "status": "completed"
    },
    "tags": []
   },
   "outputs": [
    {
     "data": {
      "text/plain": [
       "{'metric': 'euclidean', 'n_neighbors': 3}"
      ]
     },
     "execution_count": 67,
     "metadata": {},
     "output_type": "execute_result"
    }
   ],
   "source": [
    "grid_search.best_params_"
   ]
  },
  {
   "cell_type": "code",
   "execution_count": 68,
   "metadata": {
    "execution": {
     "iopub.execute_input": "2021-06-24T05:02:25.884558Z",
     "iopub.status.busy": "2021-06-24T05:02:25.883807Z",
     "iopub.status.idle": "2021-06-24T05:02:25.887691Z",
     "shell.execute_reply": "2021-06-24T05:02:25.887150Z",
     "shell.execute_reply.started": "2021-06-24T03:27:04.072719Z"
    },
    "papermill": {
     "duration": 0.107199,
     "end_time": "2021-06-24T05:02:25.887841",
     "exception": false,
     "start_time": "2021-06-24T05:02:25.780642",
     "status": "completed"
    },
    "tags": []
   },
   "outputs": [
    {
     "data": {
      "text/plain": [
       "KNeighborsClassifier(metric='euclidean', n_neighbors=3)"
      ]
     },
     "execution_count": 68,
     "metadata": {},
     "output_type": "execute_result"
    }
   ],
   "source": [
    "grid_search.best_estimator_"
   ]
  },
  {
   "cell_type": "code",
   "execution_count": 69,
   "metadata": {
    "execution": {
     "iopub.execute_input": "2021-06-24T05:02:26.088576Z",
     "iopub.status.busy": "2021-06-24T05:02:26.087643Z",
     "iopub.status.idle": "2021-06-24T05:02:26.092324Z",
     "shell.execute_reply": "2021-06-24T05:02:26.092801Z",
     "shell.execute_reply.started": "2021-06-24T03:43:31.224822Z"
    },
    "papermill": {
     "duration": 0.107101,
     "end_time": "2021-06-24T05:02:26.092967",
     "exception": false,
     "start_time": "2021-06-24T05:02:25.985866",
     "status": "completed"
    },
    "tags": []
   },
   "outputs": [],
   "source": [
    "param_grid = [\n",
    "    {'n_estimators': [3, 6, 10, 15, 50, 500], 'criterion': [\"gini\", \"entropy\"], 'max_features': [4, 6, 8,12, 16, None], 'bootstrap': [False, True]}\n",
    "]"
   ]
  },
  {
   "cell_type": "code",
   "execution_count": 70,
   "metadata": {
    "execution": {
     "iopub.execute_input": "2021-06-24T05:02:26.291756Z",
     "iopub.status.busy": "2021-06-24T05:02:26.291093Z",
     "iopub.status.idle": "2021-06-24T05:02:26.294428Z",
     "shell.execute_reply": "2021-06-24T05:02:26.294898Z",
     "shell.execute_reply.started": "2021-06-24T03:43:32.312520Z"
    },
    "papermill": {
     "duration": 0.104667,
     "end_time": "2021-06-24T05:02:26.295058",
     "exception": false,
     "start_time": "2021-06-24T05:02:26.190391",
     "status": "completed"
    },
    "tags": []
   },
   "outputs": [],
   "source": [
    "forest = RandomForestClassifier()"
   ]
  },
  {
   "cell_type": "code",
   "execution_count": 71,
   "metadata": {
    "execution": {
     "iopub.execute_input": "2021-06-24T05:02:26.496512Z",
     "iopub.status.busy": "2021-06-24T05:02:26.495902Z",
     "iopub.status.idle": "2021-06-24T05:02:26.499602Z",
     "shell.execute_reply": "2021-06-24T05:02:26.500203Z",
     "shell.execute_reply.started": "2021-06-24T03:43:32.594633Z"
    },
    "papermill": {
     "duration": 0.106363,
     "end_time": "2021-06-24T05:02:26.500357",
     "exception": false,
     "start_time": "2021-06-24T05:02:26.393994",
     "status": "completed"
    },
    "tags": []
   },
   "outputs": [],
   "source": [
    "grid_search = GridSearchCV(forest, param_grid, cv=5, scoring='accuracy', return_train_score=True)"
   ]
  },
  {
   "cell_type": "code",
   "execution_count": 72,
   "metadata": {
    "execution": {
     "iopub.execute_input": "2021-06-24T05:02:26.705948Z",
     "iopub.status.busy": "2021-06-24T05:02:26.705352Z",
     "iopub.status.idle": "2021-06-24T05:05:28.729708Z",
     "shell.execute_reply": "2021-06-24T05:05:28.730209Z",
     "shell.execute_reply.started": "2021-06-24T03:43:33.136419Z"
    },
    "papermill": {
     "duration": 182.129789,
     "end_time": "2021-06-24T05:05:28.730398",
     "exception": false,
     "start_time": "2021-06-24T05:02:26.600609",
     "status": "completed"
    },
    "tags": []
   },
   "outputs": [
    {
     "data": {
      "text/plain": [
       "GridSearchCV(cv=5, estimator=RandomForestClassifier(),\n",
       "             param_grid=[{'bootstrap': [False, True],\n",
       "                          'criterion': ['gini', 'entropy'],\n",
       "                          'max_features': [4, 6, 8, 12, 16, None],\n",
       "                          'n_estimators': [3, 6, 10, 15, 50, 500]}],\n",
       "             return_train_score=True, scoring='accuracy')"
      ]
     },
     "execution_count": 72,
     "metadata": {},
     "output_type": "execute_result"
    }
   ],
   "source": [
    "grid_search.fit(train_prepared, train_labels)"
   ]
  },
  {
   "cell_type": "code",
   "execution_count": 73,
   "metadata": {
    "execution": {
     "iopub.execute_input": "2021-06-24T05:05:28.933256Z",
     "iopub.status.busy": "2021-06-24T05:05:28.932349Z",
     "iopub.status.idle": "2021-06-24T05:05:28.935716Z",
     "shell.execute_reply": "2021-06-24T05:05:28.936182Z",
     "shell.execute_reply.started": "2021-06-24T03:46:36.298048Z"
    },
    "papermill": {
     "duration": 0.107809,
     "end_time": "2021-06-24T05:05:28.936334",
     "exception": false,
     "start_time": "2021-06-24T05:05:28.828525",
     "status": "completed"
    },
    "tags": []
   },
   "outputs": [
    {
     "data": {
      "text/plain": [
       "{'bootstrap': True,\n",
       " 'criterion': 'entropy',\n",
       " 'max_features': 8,\n",
       " 'n_estimators': 50}"
      ]
     },
     "execution_count": 73,
     "metadata": {},
     "output_type": "execute_result"
    }
   ],
   "source": [
    "grid_search.best_params_"
   ]
  },
  {
   "cell_type": "code",
   "execution_count": 74,
   "metadata": {
    "execution": {
     "iopub.execute_input": "2021-06-24T05:05:29.137776Z",
     "iopub.status.busy": "2021-06-24T05:05:29.136857Z",
     "iopub.status.idle": "2021-06-24T05:05:29.141937Z",
     "shell.execute_reply": "2021-06-24T05:05:29.142525Z",
     "shell.execute_reply.started": "2021-06-24T04:05:07.608723Z"
    },
    "papermill": {
     "duration": 0.10802,
     "end_time": "2021-06-24T05:05:29.142703",
     "exception": false,
     "start_time": "2021-06-24T05:05:29.034683",
     "status": "completed"
    },
    "tags": []
   },
   "outputs": [],
   "source": [
    "param_grid = [\n",
    "    {\n",
    "        'base_estimator': [DecisionTreeClassifier(criterion='gini')],\n",
    "        'n_estimators': [3, 6, 10, 15, 50, 100, 250, 500],\n",
    "        'learning_rate': [0.1, 0.5, 1, 1.5],\n",
    "    }\n",
    "]"
   ]
  },
  {
   "cell_type": "code",
   "execution_count": 75,
   "metadata": {
    "execution": {
     "iopub.execute_input": "2021-06-24T05:05:29.346376Z",
     "iopub.status.busy": "2021-06-24T05:05:29.345431Z",
     "iopub.status.idle": "2021-06-24T05:05:29.349301Z",
     "shell.execute_reply": "2021-06-24T05:05:29.349768Z",
     "shell.execute_reply.started": "2021-06-24T04:05:07.838261Z"
    },
    "papermill": {
     "duration": 0.107178,
     "end_time": "2021-06-24T05:05:29.349916",
     "exception": false,
     "start_time": "2021-06-24T05:05:29.242738",
     "status": "completed"
    },
    "tags": []
   },
   "outputs": [],
   "source": [
    "ada = AdaBoostClassifier()"
   ]
  },
  {
   "cell_type": "code",
   "execution_count": 76,
   "metadata": {
    "execution": {
     "iopub.execute_input": "2021-06-24T05:05:29.553714Z",
     "iopub.status.busy": "2021-06-24T05:05:29.552781Z",
     "iopub.status.idle": "2021-06-24T05:05:29.556840Z",
     "shell.execute_reply": "2021-06-24T05:05:29.557312Z",
     "shell.execute_reply.started": "2021-06-24T04:05:08.171395Z"
    },
    "papermill": {
     "duration": 0.108257,
     "end_time": "2021-06-24T05:05:29.557477",
     "exception": false,
     "start_time": "2021-06-24T05:05:29.449220",
     "status": "completed"
    },
    "tags": []
   },
   "outputs": [],
   "source": [
    "grid_search = GridSearchCV(ada, param_grid, cv=5, scoring='accuracy', return_train_score=True)"
   ]
  },
  {
   "cell_type": "code",
   "execution_count": 77,
   "metadata": {
    "execution": {
     "iopub.execute_input": "2021-06-24T05:05:29.759578Z",
     "iopub.status.busy": "2021-06-24T05:05:29.758663Z",
     "iopub.status.idle": "2021-06-24T05:06:38.923612Z",
     "shell.execute_reply": "2021-06-24T05:06:38.924118Z",
     "shell.execute_reply.started": "2021-06-24T04:05:08.369648Z"
    },
    "papermill": {
     "duration": 69.268599,
     "end_time": "2021-06-24T05:06:38.924300",
     "exception": false,
     "start_time": "2021-06-24T05:05:29.655701",
     "status": "completed"
    },
    "tags": []
   },
   "outputs": [
    {
     "data": {
      "text/plain": [
       "GridSearchCV(cv=5, estimator=AdaBoostClassifier(),\n",
       "             param_grid=[{'base_estimator': [DecisionTreeClassifier()],\n",
       "                          'learning_rate': [0.1, 0.5, 1, 1.5],\n",
       "                          'n_estimators': [3, 6, 10, 15, 50, 100, 250, 500]}],\n",
       "             return_train_score=True, scoring='accuracy')"
      ]
     },
     "execution_count": 77,
     "metadata": {},
     "output_type": "execute_result"
    }
   ],
   "source": [
    "grid_search.fit(train_prepared, train_labels)"
   ]
  },
  {
   "cell_type": "code",
   "execution_count": 78,
   "metadata": {
    "execution": {
     "iopub.execute_input": "2021-06-24T05:06:39.129564Z",
     "iopub.status.busy": "2021-06-24T05:06:39.128956Z",
     "iopub.status.idle": "2021-06-24T05:06:39.134418Z",
     "shell.execute_reply": "2021-06-24T05:06:39.134886Z",
     "shell.execute_reply.started": "2021-06-24T04:06:17.476040Z"
    },
    "papermill": {
     "duration": 0.109308,
     "end_time": "2021-06-24T05:06:39.135044",
     "exception": false,
     "start_time": "2021-06-24T05:06:39.025736",
     "status": "completed"
    },
    "tags": []
   },
   "outputs": [
    {
     "data": {
      "text/plain": [
       "{'base_estimator': DecisionTreeClassifier(),\n",
       " 'learning_rate': 0.1,\n",
       " 'n_estimators': 250}"
      ]
     },
     "execution_count": 78,
     "metadata": {},
     "output_type": "execute_result"
    }
   ],
   "source": [
    "grid_search.best_params_"
   ]
  },
  {
   "cell_type": "markdown",
   "metadata": {
    "papermill": {
     "duration": 0.100922,
     "end_time": "2021-06-24T05:06:39.336017",
     "exception": false,
     "start_time": "2021-06-24T05:06:39.235095",
     "status": "completed"
    },
    "tags": []
   },
   "source": [
    "Try BaggingClassifier with the best KNN classifier"
   ]
  },
  {
   "cell_type": "code",
   "execution_count": 79,
   "metadata": {
    "execution": {
     "iopub.execute_input": "2021-06-24T05:06:39.543406Z",
     "iopub.status.busy": "2021-06-24T05:06:39.542729Z",
     "iopub.status.idle": "2021-06-24T05:06:39.545090Z",
     "shell.execute_reply": "2021-06-24T05:06:39.545542Z",
     "shell.execute_reply.started": "2021-06-24T04:13:16.982950Z"
    },
    "papermill": {
     "duration": 0.108429,
     "end_time": "2021-06-24T05:06:39.545738",
     "exception": false,
     "start_time": "2021-06-24T05:06:39.437309",
     "status": "completed"
    },
    "tags": []
   },
   "outputs": [],
   "source": [
    "from sklearn.ensemble import BaggingClassifier"
   ]
  },
  {
   "cell_type": "code",
   "execution_count": 80,
   "metadata": {
    "execution": {
     "iopub.execute_input": "2021-06-24T05:06:39.756571Z",
     "iopub.status.busy": "2021-06-24T05:06:39.755933Z",
     "iopub.status.idle": "2021-06-24T05:06:39.758857Z",
     "shell.execute_reply": "2021-06-24T05:06:39.758234Z",
     "shell.execute_reply.started": "2021-06-24T04:15:41.829072Z"
    },
    "papermill": {
     "duration": 0.109461,
     "end_time": "2021-06-24T05:06:39.759000",
     "exception": false,
     "start_time": "2021-06-24T05:06:39.649539",
     "status": "completed"
    },
    "tags": []
   },
   "outputs": [],
   "source": [
    "param_grid = [\n",
    "    {\n",
    "        'base_estimator': [KNeighborsClassifier(metric='euclidean', n_neighbors=3)],\n",
    "        'n_estimators': [3, 6, 10, 15, 50, 100, 250, 500],\n",
    "        'max_samples': [0.2, 0.4, 0.6, 0.8, 1.0],\n",
    "        'max_features': [4, 6, 8,12, 16, 18],\n",
    "    }\n",
    "]"
   ]
  },
  {
   "cell_type": "code",
   "execution_count": 81,
   "metadata": {
    "execution": {
     "iopub.execute_input": "2021-06-24T05:06:39.962376Z",
     "iopub.status.busy": "2021-06-24T05:06:39.961720Z",
     "iopub.status.idle": "2021-06-24T05:06:39.965528Z",
     "shell.execute_reply": "2021-06-24T05:06:39.966008Z",
     "shell.execute_reply.started": "2021-06-24T04:15:54.447282Z"
    },
    "papermill": {
     "duration": 0.107105,
     "end_time": "2021-06-24T05:06:39.966219",
     "exception": false,
     "start_time": "2021-06-24T05:06:39.859114",
     "status": "completed"
    },
    "tags": []
   },
   "outputs": [],
   "source": [
    "bagging = BaggingClassifier()"
   ]
  },
  {
   "cell_type": "code",
   "execution_count": 82,
   "metadata": {
    "execution": {
     "iopub.execute_input": "2021-06-24T05:06:40.176269Z",
     "iopub.status.busy": "2021-06-24T05:06:40.175299Z",
     "iopub.status.idle": "2021-06-24T05:06:40.179375Z",
     "shell.execute_reply": "2021-06-24T05:06:40.179870Z",
     "shell.execute_reply.started": "2021-06-24T04:16:08.527402Z"
    },
    "papermill": {
     "duration": 0.108691,
     "end_time": "2021-06-24T05:06:40.180019",
     "exception": false,
     "start_time": "2021-06-24T05:06:40.071328",
     "status": "completed"
    },
    "tags": []
   },
   "outputs": [],
   "source": [
    "grid_search = GridSearchCV(bagging, param_grid, cv=5, scoring='accuracy', return_train_score=True)"
   ]
  },
  {
   "cell_type": "code",
   "execution_count": 83,
   "metadata": {
    "execution": {
     "iopub.execute_input": "2021-06-24T05:06:40.386653Z",
     "iopub.status.busy": "2021-06-24T05:06:40.385717Z",
     "iopub.status.idle": "2021-06-24T05:22:17.774255Z",
     "shell.execute_reply": "2021-06-24T05:22:17.774759Z",
     "shell.execute_reply.started": "2021-06-24T04:16:24.139303Z"
    },
    "papermill": {
     "duration": 937.492495,
     "end_time": "2021-06-24T05:22:17.774949",
     "exception": false,
     "start_time": "2021-06-24T05:06:40.282454",
     "status": "completed"
    },
    "tags": []
   },
   "outputs": [
    {
     "data": {
      "text/plain": [
       "GridSearchCV(cv=5, estimator=BaggingClassifier(),\n",
       "             param_grid=[{'base_estimator': [KNeighborsClassifier(metric='euclidean',\n",
       "                                                                  n_neighbors=3)],\n",
       "                          'max_features': [4, 6, 8, 12, 16, 18],\n",
       "                          'max_samples': [0.2, 0.4, 0.6, 0.8, 1.0],\n",
       "                          'n_estimators': [3, 6, 10, 15, 50, 100, 250, 500]}],\n",
       "             return_train_score=True, scoring='accuracy')"
      ]
     },
     "execution_count": 83,
     "metadata": {},
     "output_type": "execute_result"
    }
   ],
   "source": [
    "grid_search.fit(train_prepared, train_labels)"
   ]
  },
  {
   "cell_type": "code",
   "execution_count": 84,
   "metadata": {
    "execution": {
     "iopub.execute_input": "2021-06-24T05:22:17.992452Z",
     "iopub.status.busy": "2021-06-24T05:22:17.991613Z",
     "iopub.status.idle": "2021-06-24T05:22:17.995857Z",
     "shell.execute_reply": "2021-06-24T05:22:17.995375Z",
     "shell.execute_reply.started": "2021-06-24T04:32:30.188224Z"
    },
    "papermill": {
     "duration": 0.114539,
     "end_time": "2021-06-24T05:22:17.995984",
     "exception": false,
     "start_time": "2021-06-24T05:22:17.881445",
     "status": "completed"
    },
    "tags": []
   },
   "outputs": [
    {
     "data": {
      "text/plain": [
       "{'base_estimator': KNeighborsClassifier(metric='euclidean', n_neighbors=3),\n",
       " 'max_features': 16,\n",
       " 'max_samples': 0.6,\n",
       " 'n_estimators': 6}"
      ]
     },
     "execution_count": 84,
     "metadata": {},
     "output_type": "execute_result"
    }
   ],
   "source": [
    "grid_search.best_params_"
   ]
  },
  {
   "cell_type": "markdown",
   "metadata": {
    "papermill": {
     "duration": 0.105377,
     "end_time": "2021-06-24T05:22:18.209090",
     "exception": false,
     "start_time": "2021-06-24T05:22:18.103713",
     "status": "completed"
    },
    "tags": []
   },
   "source": [
    "## Test performance on validation set"
   ]
  },
  {
   "cell_type": "markdown",
   "metadata": {
    "papermill": {
     "duration": 0.104828,
     "end_time": "2021-06-24T05:22:18.419589",
     "exception": false,
     "start_time": "2021-06-24T05:22:18.314761",
     "status": "completed"
    },
    "tags": []
   },
   "source": [
    "Train the best estimators of each search then test on the validation set"
   ]
  },
  {
   "cell_type": "code",
   "execution_count": 85,
   "metadata": {
    "execution": {
     "iopub.execute_input": "2021-06-24T05:22:18.634474Z",
     "iopub.status.busy": "2021-06-24T05:22:18.633721Z",
     "iopub.status.idle": "2021-06-24T05:22:18.636788Z",
     "shell.execute_reply": "2021-06-24T05:22:18.636061Z",
     "shell.execute_reply.started": "2021-06-24T04:44:12.327732Z"
    },
    "papermill": {
     "duration": 0.113408,
     "end_time": "2021-06-24T05:22:18.636928",
     "exception": false,
     "start_time": "2021-06-24T05:22:18.523520",
     "status": "completed"
    },
    "tags": []
   },
   "outputs": [],
   "source": [
    "knn = KNeighborsClassifier(metric='euclidean', n_neighbors= 3)\n",
    "\n",
    "forest = RandomForestClassifier(bootstrap= True, criterion= 'gini', max_features= 16, n_estimators= 6)\n",
    "\n",
    "ada = AdaBoostClassifier(n_estimators= 100)\n",
    "\n",
    "bagging = BaggingClassifier(\n",
    "    base_estimator=KNeighborsClassifier(metric='euclidean', n_neighbors=3),\n",
    "    max_features=12,\n",
    "    max_samples=0.4,\n",
    "    n_estimators=100\n",
    ")"
   ]
  },
  {
   "cell_type": "code",
   "execution_count": 86,
   "metadata": {
    "execution": {
     "iopub.execute_input": "2021-06-24T05:22:18.926700Z",
     "iopub.status.busy": "2021-06-24T05:22:18.925650Z",
     "iopub.status.idle": "2021-06-24T05:22:19.326043Z",
     "shell.execute_reply": "2021-06-24T05:22:19.325530Z",
     "shell.execute_reply.started": "2021-06-24T04:45:22.043999Z"
    },
    "papermill": {
     "duration": 0.584436,
     "end_time": "2021-06-24T05:22:19.326197",
     "exception": false,
     "start_time": "2021-06-24T05:22:18.741761",
     "status": "completed"
    },
    "tags": []
   },
   "outputs": [
    {
     "data": {
      "text/plain": [
       "BaggingClassifier(base_estimator=KNeighborsClassifier(metric='euclidean',\n",
       "                                                      n_neighbors=3),\n",
       "                  max_features=12, max_samples=0.4, n_estimators=100)"
      ]
     },
     "execution_count": 86,
     "metadata": {},
     "output_type": "execute_result"
    }
   ],
   "source": [
    "knn.fit(train_prepared, train_labels)\n",
    "forest.fit(train_prepared, train_labels)\n",
    "ada.fit(train_prepared, train_labels)\n",
    "bagging.fit(train_prepared, train_labels)"
   ]
  },
  {
   "cell_type": "code",
   "execution_count": 87,
   "metadata": {
    "execution": {
     "iopub.execute_input": "2021-06-24T05:22:19.538619Z",
     "iopub.status.busy": "2021-06-24T05:22:19.537685Z",
     "iopub.status.idle": "2021-06-24T05:22:19.540930Z",
     "shell.execute_reply": "2021-06-24T05:22:19.540330Z",
     "shell.execute_reply.started": "2021-06-24T04:48:45.554850Z"
    },
    "papermill": {
     "duration": 0.112371,
     "end_time": "2021-06-24T05:22:19.541059",
     "exception": false,
     "start_time": "2021-06-24T05:22:19.428688",
     "status": "completed"
    },
    "tags": []
   },
   "outputs": [],
   "source": [
    "valid = valid_set.drop(\"Survived\", axis=1)\n",
    "valid_labels = valid_set[\"Survived\"].copy()\n",
    "\n",
    "valid=valid.reset_index(drop=True)\n",
    "valid_labels=valid_labels.reset_index(drop=True)"
   ]
  },
  {
   "cell_type": "code",
   "execution_count": 88,
   "metadata": {
    "execution": {
     "iopub.execute_input": "2021-06-24T05:22:19.787128Z",
     "iopub.status.busy": "2021-06-24T05:22:19.780476Z",
     "iopub.status.idle": "2021-06-24T05:22:19.818000Z",
     "shell.execute_reply": "2021-06-24T05:22:19.817475Z",
     "shell.execute_reply.started": "2021-06-24T04:49:56.992949Z"
    },
    "papermill": {
     "duration": 0.174689,
     "end_time": "2021-06-24T05:22:19.818159",
     "exception": false,
     "start_time": "2021-06-24T05:22:19.643470",
     "status": "completed"
    },
    "tags": []
   },
   "outputs": [],
   "source": [
    "valid_prepared =  attr_remov.transform(attr_conv.transform(valid))\n",
    "valid_prepared = full_pipeline.fit_transform(valid_prepared)"
   ]
  },
  {
   "cell_type": "code",
   "execution_count": 89,
   "metadata": {
    "execution": {
     "iopub.execute_input": "2021-06-24T05:22:20.035558Z",
     "iopub.status.busy": "2021-06-24T05:22:20.034473Z",
     "iopub.status.idle": "2021-06-24T05:22:20.049407Z",
     "shell.execute_reply": "2021-06-24T05:22:20.050370Z",
     "shell.execute_reply.started": "2021-06-24T04:51:18.107455Z"
    },
    "papermill": {
     "duration": 0.129776,
     "end_time": "2021-06-24T05:22:20.050622",
     "exception": false,
     "start_time": "2021-06-24T05:22:19.920846",
     "status": "completed"
    },
    "tags": []
   },
   "outputs": [
    {
     "data": {
      "text/plain": [
       "0.770949720670391"
      ]
     },
     "execution_count": 89,
     "metadata": {},
     "output_type": "execute_result"
    }
   ],
   "source": [
    "knn.score(valid_prepared, valid_labels)"
   ]
  },
  {
   "cell_type": "code",
   "execution_count": 90,
   "metadata": {
    "execution": {
     "iopub.execute_input": "2021-06-24T05:22:20.305901Z",
     "iopub.status.busy": "2021-06-24T05:22:20.305216Z",
     "iopub.status.idle": "2021-06-24T05:22:20.310165Z",
     "shell.execute_reply": "2021-06-24T05:22:20.310592Z",
     "shell.execute_reply.started": "2021-06-24T04:51:22.295701Z"
    },
    "papermill": {
     "duration": 0.112794,
     "end_time": "2021-06-24T05:22:20.310778",
     "exception": false,
     "start_time": "2021-06-24T05:22:20.197984",
     "status": "completed"
    },
    "tags": []
   },
   "outputs": [
    {
     "data": {
      "text/plain": [
       "0.7877094972067039"
      ]
     },
     "execution_count": 90,
     "metadata": {},
     "output_type": "execute_result"
    }
   ],
   "source": [
    "forest.score(valid_prepared, valid_labels)"
   ]
  },
  {
   "cell_type": "code",
   "execution_count": 91,
   "metadata": {
    "execution": {
     "iopub.execute_input": "2021-06-24T05:22:20.520505Z",
     "iopub.status.busy": "2021-06-24T05:22:20.519825Z",
     "iopub.status.idle": "2021-06-24T05:22:20.542338Z",
     "shell.execute_reply": "2021-06-24T05:22:20.541815Z",
     "shell.execute_reply.started": "2021-06-24T04:51:30.242636Z"
    },
    "papermill": {
     "duration": 0.128382,
     "end_time": "2021-06-24T05:22:20.542477",
     "exception": false,
     "start_time": "2021-06-24T05:22:20.414095",
     "status": "completed"
    },
    "tags": []
   },
   "outputs": [
    {
     "data": {
      "text/plain": [
       "0.7821229050279329"
      ]
     },
     "execution_count": 91,
     "metadata": {},
     "output_type": "execute_result"
    }
   ],
   "source": [
    "ada.score(valid_prepared, valid_labels)"
   ]
  },
  {
   "cell_type": "code",
   "execution_count": 92,
   "metadata": {
    "execution": {
     "iopub.execute_input": "2021-06-24T05:22:20.753283Z",
     "iopub.status.busy": "2021-06-24T05:22:20.752598Z",
     "iopub.status.idle": "2021-06-24T05:22:20.917832Z",
     "shell.execute_reply": "2021-06-24T05:22:20.918294Z",
     "shell.execute_reply.started": "2021-06-24T04:51:35.629398Z"
    },
    "papermill": {
     "duration": 0.273391,
     "end_time": "2021-06-24T05:22:20.918468",
     "exception": false,
     "start_time": "2021-06-24T05:22:20.645077",
     "status": "completed"
    },
    "tags": []
   },
   "outputs": [
    {
     "data": {
      "text/plain": [
       "0.8100558659217877"
      ]
     },
     "execution_count": 92,
     "metadata": {},
     "output_type": "execute_result"
    }
   ],
   "source": [
    "bagging.score(valid_prepared, valid_labels)"
   ]
  },
  {
   "cell_type": "markdown",
   "metadata": {
    "papermill": {
     "duration": 0.102889,
     "end_time": "2021-06-24T05:22:21.125524",
     "exception": false,
     "start_time": "2021-06-24T05:22:21.022635",
     "status": "completed"
    },
    "tags": []
   },
   "source": [
    "The bagging classifier gives the best accuracy, so Ill train it on the entire training dataset then test on the testing dataset"
   ]
  },
  {
   "cell_type": "markdown",
   "metadata": {
    "papermill": {
     "duration": 0.10231,
     "end_time": "2021-06-24T05:22:21.331007",
     "exception": false,
     "start_time": "2021-06-24T05:22:21.228697",
     "status": "completed"
    },
    "tags": []
   },
   "source": [
    "# Train on full training dataset then test on test set"
   ]
  },
  {
   "cell_type": "code",
   "execution_count": 93,
   "metadata": {
    "execution": {
     "iopub.execute_input": "2021-06-24T05:22:21.541422Z",
     "iopub.status.busy": "2021-06-24T05:22:21.540730Z",
     "iopub.status.idle": "2021-06-24T05:22:21.558388Z",
     "shell.execute_reply": "2021-06-24T05:22:21.557863Z",
     "shell.execute_reply.started": "2021-06-24T04:53:34.576846Z"
    },
    "papermill": {
     "duration": 0.124499,
     "end_time": "2021-06-24T05:22:21.558532",
     "exception": false,
     "start_time": "2021-06-24T05:22:21.434033",
     "status": "completed"
    },
    "tags": []
   },
   "outputs": [],
   "source": [
    "train = load_data(DATA_PATH, \"train.csv\")\n",
    "test = load_data(DATA_PATH, \"test.csv\")"
   ]
  },
  {
   "cell_type": "code",
   "execution_count": 94,
   "metadata": {
    "execution": {
     "iopub.execute_input": "2021-06-24T05:22:21.772748Z",
     "iopub.status.busy": "2021-06-24T05:22:21.772055Z",
     "iopub.status.idle": "2021-06-24T05:22:21.775191Z",
     "shell.execute_reply": "2021-06-24T05:22:21.774579Z",
     "shell.execute_reply.started": "2021-06-24T04:58:30.499861Z"
    },
    "papermill": {
     "duration": 0.112758,
     "end_time": "2021-06-24T05:22:21.775318",
     "exception": false,
     "start_time": "2021-06-24T05:22:21.662560",
     "status": "completed"
    },
    "tags": []
   },
   "outputs": [],
   "source": [
    "def data_prep(df, train=True):\n",
    "    if train:\n",
    "        X = df.drop(\"Survived\", axis=1)\n",
    "        y = df[\"Survived\"].copy()\n",
    "\n",
    "        X=X.reset_index(drop=True)\n",
    "        y=y.reset_index(drop=True)\n",
    "    else:\n",
    "        X = df\n",
    "        y = []\n",
    "        \n",
    "    X =  attr_remov.transform(attr_conv.transform(X))\n",
    "    X = full_pipeline.fit_transform(X)\n",
    "    \n",
    "    return X, y"
   ]
  },
  {
   "cell_type": "code",
   "execution_count": 95,
   "metadata": {
    "execution": {
     "iopub.execute_input": "2021-06-24T05:22:21.987247Z",
     "iopub.status.busy": "2021-06-24T05:22:21.986544Z",
     "iopub.status.idle": "2021-06-24T05:22:22.307916Z",
     "shell.execute_reply": "2021-06-24T05:22:22.307273Z",
     "shell.execute_reply.started": "2021-06-24T04:58:30.876430Z"
    },
    "papermill": {
     "duration": 0.430174,
     "end_time": "2021-06-24T05:22:22.308058",
     "exception": false,
     "start_time": "2021-06-24T05:22:21.877884",
     "status": "completed"
    },
    "tags": []
   },
   "outputs": [],
   "source": [
    "train_X, train_y = data_prep(train)\n",
    "test_X, test_y = data_prep(test, False)"
   ]
  },
  {
   "cell_type": "code",
   "execution_count": 96,
   "metadata": {
    "execution": {
     "iopub.execute_input": "2021-06-24T05:22:22.520591Z",
     "iopub.status.busy": "2021-06-24T05:22:22.519923Z",
     "iopub.status.idle": "2021-06-24T05:22:22.522897Z",
     "shell.execute_reply": "2021-06-24T05:22:22.522437Z",
     "shell.execute_reply.started": "2021-06-24T04:59:03.955768Z"
    },
    "papermill": {
     "duration": 0.111651,
     "end_time": "2021-06-24T05:22:22.523024",
     "exception": false,
     "start_time": "2021-06-24T05:22:22.411373",
     "status": "completed"
    },
    "tags": []
   },
   "outputs": [],
   "source": [
    "bagging = BaggingClassifier(\n",
    "    base_estimator=KNeighborsClassifier(metric='euclidean', n_neighbors=3),\n",
    "    max_features=12,\n",
    "    max_samples=0.4,\n",
    "    n_estimators=100\n",
    ")"
   ]
  },
  {
   "cell_type": "code",
   "execution_count": 97,
   "metadata": {
    "execution": {
     "iopub.execute_input": "2021-06-24T05:22:22.737746Z",
     "iopub.status.busy": "2021-06-24T05:22:22.736994Z",
     "iopub.status.idle": "2021-06-24T05:22:22.931891Z",
     "shell.execute_reply": "2021-06-24T05:22:22.931380Z",
     "shell.execute_reply.started": "2021-06-24T04:59:16.232758Z"
    },
    "papermill": {
     "duration": 0.304099,
     "end_time": "2021-06-24T05:22:22.932039",
     "exception": false,
     "start_time": "2021-06-24T05:22:22.627940",
     "status": "completed"
    },
    "tags": []
   },
   "outputs": [
    {
     "data": {
      "text/plain": [
       "BaggingClassifier(base_estimator=KNeighborsClassifier(metric='euclidean',\n",
       "                                                      n_neighbors=3),\n",
       "                  max_features=12, max_samples=0.4, n_estimators=100)"
      ]
     },
     "execution_count": 97,
     "metadata": {},
     "output_type": "execute_result"
    }
   ],
   "source": [
    "bagging.fit(train_X, train_y)"
   ]
  },
  {
   "cell_type": "code",
   "execution_count": 98,
   "metadata": {
    "execution": {
     "iopub.execute_input": "2021-06-24T05:22:23.152579Z",
     "iopub.status.busy": "2021-06-24T05:22:23.151726Z",
     "iopub.status.idle": "2021-06-24T05:22:23.476699Z",
     "shell.execute_reply": "2021-06-24T05:22:23.476026Z",
     "shell.execute_reply.started": "2021-06-24T04:59:40.023639Z"
    },
    "papermill": {
     "duration": 0.437365,
     "end_time": "2021-06-24T05:22:23.476835",
     "exception": false,
     "start_time": "2021-06-24T05:22:23.039470",
     "status": "completed"
    },
    "tags": []
   },
   "outputs": [],
   "source": [
    "preds = bagging.predict(test_X)"
   ]
  },
  {
   "cell_type": "code",
   "execution_count": 99,
   "metadata": {
    "execution": {
     "iopub.execute_input": "2021-06-24T05:22:23.691782Z",
     "iopub.status.busy": "2021-06-24T05:22:23.690818Z",
     "iopub.status.idle": "2021-06-24T05:22:23.693841Z",
     "shell.execute_reply": "2021-06-24T05:22:23.693237Z",
     "shell.execute_reply.started": "2021-06-24T05:00:50.251096Z"
    },
    "papermill": {
     "duration": 0.112366,
     "end_time": "2021-06-24T05:22:23.693970",
     "exception": false,
     "start_time": "2021-06-24T05:22:23.581604",
     "status": "completed"
    },
    "tags": []
   },
   "outputs": [],
   "source": [
    "my_submission = pd.DataFrame({'PassengerId': test.PassengerId, 'Survived': preds})"
   ]
  },
  {
   "cell_type": "code",
   "execution_count": 100,
   "metadata": {
    "execution": {
     "iopub.execute_input": "2021-06-24T05:22:23.911234Z",
     "iopub.status.busy": "2021-06-24T05:22:23.910278Z",
     "iopub.status.idle": "2021-06-24T05:22:23.916466Z",
     "shell.execute_reply": "2021-06-24T05:22:23.916995Z",
     "shell.execute_reply.started": "2021-06-24T05:00:58.264059Z"
    },
    "papermill": {
     "duration": 0.115969,
     "end_time": "2021-06-24T05:22:23.917188",
     "exception": false,
     "start_time": "2021-06-24T05:22:23.801219",
     "status": "completed"
    },
    "tags": []
   },
   "outputs": [],
   "source": [
    "my_submission.to_csv('submission.csv', index=False)"
   ]
  },
  {
   "cell_type": "code",
   "execution_count": null,
   "metadata": {
    "papermill": {
     "duration": 0.104899,
     "end_time": "2021-06-24T05:22:24.127633",
     "exception": false,
     "start_time": "2021-06-24T05:22:24.022734",
     "status": "completed"
    },
    "tags": []
   },
   "outputs": [],
   "source": []
  }
 ],
 "metadata": {
  "kernelspec": {
   "display_name": "Python 3",
   "language": "python",
   "name": "python3"
  },
  "language_info": {
   "codemirror_mode": {
    "name": "ipython",
    "version": 3
   },
   "file_extension": ".py",
   "mimetype": "text/x-python",
   "name": "python",
   "nbconvert_exporter": "python",
   "pygments_lexer": "ipython3",
   "version": "3.7.9"
  },
  "papermill": {
   "default_parameters": {},
   "duration": 1258.2852,
   "end_time": "2021-06-24T05:22:24.940405",
   "environment_variables": {},
   "exception": null,
   "input_path": "__notebook__.ipynb",
   "output_path": "__notebook__.ipynb",
   "parameters": {},
   "start_time": "2021-06-24T05:01:26.655205",
   "version": "2.3.3"
  }
 },
 "nbformat": 4,
 "nbformat_minor": 5
}
